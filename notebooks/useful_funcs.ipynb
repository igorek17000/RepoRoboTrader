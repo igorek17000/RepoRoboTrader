{
 "cells": [
  {
   "cell_type": "markdown",
   "id": "94ae3763",
   "metadata": {},
   "source": [
    "# Useful_funcs"
   ]
  },
  {
   "cell_type": "code",
   "execution_count": null,
   "id": "c98276d3",
   "metadata": {},
   "outputs": [],
   "source": [
    "# Try if  pandas_ta, python-binance and pybit are available\n",
    "\n",
    "try:\n",
    "  import pandas_ta\n",
    "except ModuleNotFoundError:\n",
    "  !pip install pandas_ta\n",
    "  pass\n",
    "\n",
    "try:\n",
    "  import binance\n",
    "except ModuleNotFoundError:\n",
    "  !pip install python-binance\n",
    "  pass\n",
    "\n",
    "try:\n",
    "  import pybit\n",
    "except ModuleNotFoundError:\n",
    "  !pip install pybit\n",
    "  pass"
   ]
  },
  {
   "cell_type": "code",
   "execution_count": null,
   "id": "79301ca8",
   "metadata": {},
   "outputs": [],
   "source": [
    "basestuffs\n",
    "import pandas as pd\n",
    "import numpy as np\n",
    "import matplotlib.pyplot as plt\n",
    "\n",
    "#timestuffs\n",
    "from datetime import datetime, timedelta\n",
    "import time\n",
    "\n",
    "#financestuffs\n",
    "import pandas_ta as ta\n",
    "import math\n",
    "import configparser\n",
    "from binance import Client, ThreadedWebsocketManager, ThreadedDepthCacheManager\n",
    "from binance.exceptions import BinanceAPIException\n",
    "\n",
    "#query\n",
    "import urllib.request\n",
    "import json"
   ]
  }
 ],
 "metadata": {
  "kernelspec": {
   "display_name": "Python 3 (ipykernel)",
   "language": "python",
   "name": "python3"
  },
  "language_info": {
   "codemirror_mode": {
    "name": "ipython",
    "version": 3
   },
   "file_extension": ".py",
   "mimetype": "text/x-python",
   "name": "python",
   "nbconvert_exporter": "python",
   "pygments_lexer": "ipython3",
   "version": "3.8.8"
  }
 },
 "nbformat": 4,
 "nbformat_minor": 5
}
