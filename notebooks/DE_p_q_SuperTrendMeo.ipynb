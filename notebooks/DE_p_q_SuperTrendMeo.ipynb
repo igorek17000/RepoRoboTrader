{
 "cells": [
  {
   "cell_type": "markdown",
   "metadata": {
    "id": "Dd3RzqQbb0rP"
   },
   "source": [
    "# DE SuperTrend Meo"
   ]
  },
  {
   "cell_type": "markdown",
   "metadata": {
    "id": "TdxHV-T1ZOPj"
   },
   "source": [
    "## Import modules"
   ]
  },
  {
   "cell_type": "code",
   "execution_count": 1,
   "metadata": {
    "colab": {
     "base_uri": "https://localhost:8080/"
    },
    "executionInfo": {
     "elapsed": 24677,
     "status": "ok",
     "timestamp": 1653052048810,
     "user": {
      "displayName": "Romeo ADJOVI",
      "userId": "10846381796436650679"
     },
     "user_tz": -60
    },
    "id": "cQA-hDyPcgzA",
    "outputId": "8eb10d28-a9d8-42ee-a905-21e383028bc9"
   },
   "outputs": [
    {
     "name": "stdout",
     "output_type": "stream",
     "text": [
      "Collecting pandas_ta\n",
      "  Downloading pandas_ta-0.3.14b.tar.gz (115 kB)\n",
      "\u001b[K     |████████████████████████████████| 115 kB 5.4 MB/s eta 0:00:01\n",
      "\u001b[?25hRequirement already satisfied: pandas in /usr/local/lib/python3.7/dist-packages (from pandas_ta) (1.3.5)\n",
      "Requirement already satisfied: pytz>=2017.3 in /usr/local/lib/python3.7/dist-packages (from pandas->pandas_ta) (2022.1)\n",
      "Requirement already satisfied: numpy>=1.17.3 in /usr/local/lib/python3.7/dist-packages (from pandas->pandas_ta) (1.21.6)\n",
      "Requirement already satisfied: python-dateutil>=2.7.3 in /usr/local/lib/python3.7/dist-packages (from pandas->pandas_ta) (2.8.2)\n",
      "Requirement already satisfied: six>=1.5 in /usr/local/lib/python3.7/dist-packages (from python-dateutil>=2.7.3->pandas->pandas_ta) (1.15.0)\n",
      "Building wheels for collected packages: pandas-ta\n",
      "  Building wheel for pandas-ta (setup.py) ... \u001b[?25l\u001b[?25hdone\n",
      "  Created wheel for pandas-ta: filename=pandas_ta-0.3.14b0-py3-none-any.whl size=218923 sha256=90d918cef16758bb901f643c53352cf9cfbff33023b5e324c3c42fbe92662467\n",
      "  Stored in directory: /root/.cache/pip/wheels/0b/81/f0/cca85757840e4616a2c6b9fe12569d97d324c27cac60724c58\n",
      "Successfully built pandas-ta\n",
      "Installing collected packages: pandas-ta\n",
      "Successfully installed pandas-ta-0.3.14b0\n",
      "Collecting python-binance\n",
      "  Downloading python_binance-1.0.16-py2.py3-none-any.whl (65 kB)\n",
      "\u001b[K     |████████████████████████████████| 65 kB 2.1 MB/s \n",
      "\u001b[?25hCollecting ujson\n",
      "  Downloading ujson-5.3.0-cp37-cp37m-manylinux_2_17_x86_64.manylinux2014_x86_64.whl (45 kB)\n",
      "\u001b[K     |████████████████████████████████| 45 kB 2.9 MB/s \n",
      "\u001b[?25hCollecting dateparser\n",
      "  Downloading dateparser-1.1.1-py2.py3-none-any.whl (288 kB)\n",
      "\u001b[K     |████████████████████████████████| 288 kB 11.0 MB/s \n",
      "\u001b[?25hRequirement already satisfied: six in /usr/local/lib/python3.7/dist-packages (from python-binance) (1.15.0)\n",
      "Collecting websockets\n",
      "  Downloading websockets-10.3-cp37-cp37m-manylinux_2_5_x86_64.manylinux1_x86_64.manylinux_2_12_x86_64.manylinux2010_x86_64.whl (112 kB)\n",
      "\u001b[K     |████████████████████████████████| 112 kB 44.6 MB/s \n",
      "\u001b[?25hRequirement already satisfied: requests in /usr/local/lib/python3.7/dist-packages (from python-binance) (2.23.0)\n",
      "Collecting aiohttp\n",
      "  Downloading aiohttp-3.8.1-cp37-cp37m-manylinux_2_5_x86_64.manylinux1_x86_64.manylinux_2_12_x86_64.manylinux2010_x86_64.whl (1.1 MB)\n",
      "\u001b[K     |████████████████████████████████| 1.1 MB 40.8 MB/s \n",
      "\u001b[?25hCollecting frozenlist>=1.1.1\n",
      "  Downloading frozenlist-1.3.0-cp37-cp37m-manylinux_2_5_x86_64.manylinux1_x86_64.manylinux_2_17_x86_64.manylinux2014_x86_64.whl (144 kB)\n",
      "\u001b[K     |████████████████████████████████| 144 kB 5.7 MB/s \n",
      "\u001b[?25hRequirement already satisfied: typing-extensions>=3.7.4 in /usr/local/lib/python3.7/dist-packages (from aiohttp->python-binance) (4.2.0)\n",
      "Collecting asynctest==0.13.0\n",
      "  Downloading asynctest-0.13.0-py3-none-any.whl (26 kB)\n",
      "Collecting async-timeout<5.0,>=4.0.0a3\n",
      "  Downloading async_timeout-4.0.2-py3-none-any.whl (5.8 kB)\n",
      "Requirement already satisfied: attrs>=17.3.0 in /usr/local/lib/python3.7/dist-packages (from aiohttp->python-binance) (21.4.0)\n",
      "Collecting yarl<2.0,>=1.0\n",
      "  Downloading yarl-1.7.2-cp37-cp37m-manylinux_2_5_x86_64.manylinux1_x86_64.manylinux_2_12_x86_64.manylinux2010_x86_64.whl (271 kB)\n",
      "\u001b[K     |████████████████████████████████| 271 kB 46.1 MB/s \n",
      "\u001b[?25hCollecting multidict<7.0,>=4.5\n",
      "  Downloading multidict-6.0.2-cp37-cp37m-manylinux_2_17_x86_64.manylinux2014_x86_64.whl (94 kB)\n",
      "\u001b[K     |████████████████████████████████| 94 kB 3.1 MB/s \n",
      "\u001b[?25hCollecting aiosignal>=1.1.2\n",
      "  Downloading aiosignal-1.2.0-py3-none-any.whl (8.2 kB)\n",
      "Requirement already satisfied: charset-normalizer<3.0,>=2.0 in /usr/local/lib/python3.7/dist-packages (from aiohttp->python-binance) (2.0.12)\n",
      "Requirement already satisfied: idna>=2.0 in /usr/local/lib/python3.7/dist-packages (from yarl<2.0,>=1.0->aiohttp->python-binance) (2.10)\n",
      "Requirement already satisfied: pytz in /usr/local/lib/python3.7/dist-packages (from dateparser->python-binance) (2022.1)\n",
      "Requirement already satisfied: python-dateutil in /usr/local/lib/python3.7/dist-packages (from dateparser->python-binance) (2.8.2)\n",
      "Requirement already satisfied: tzlocal in /usr/local/lib/python3.7/dist-packages (from dateparser->python-binance) (1.5.1)\n",
      "Requirement already satisfied: regex!=2019.02.19,!=2021.8.27,<2022.3.15 in /usr/local/lib/python3.7/dist-packages (from dateparser->python-binance) (2019.12.20)\n",
      "Requirement already satisfied: chardet<4,>=3.0.2 in /usr/local/lib/python3.7/dist-packages (from requests->python-binance) (3.0.4)\n",
      "Requirement already satisfied: urllib3!=1.25.0,!=1.25.1,<1.26,>=1.21.1 in /usr/local/lib/python3.7/dist-packages (from requests->python-binance) (1.24.3)\n",
      "Requirement already satisfied: certifi>=2017.4.17 in /usr/local/lib/python3.7/dist-packages (from requests->python-binance) (2021.10.8)\n",
      "Installing collected packages: multidict, frozenlist, yarl, asynctest, async-timeout, aiosignal, websockets, ujson, dateparser, aiohttp, python-binance\n",
      "Successfully installed aiohttp-3.8.1 aiosignal-1.2.0 async-timeout-4.0.2 asynctest-0.13.0 dateparser-1.1.1 frozenlist-1.3.0 multidict-6.0.2 python-binance-1.0.16 ujson-5.3.0 websockets-10.3 yarl-1.7.2\n"
     ]
    }
   ],
   "source": [
    "#!pip install yfinance\n",
    "#!pip install pandas_ta\n",
    "#!pip install python-binance\n",
    "try:\n",
    "  import pandas_ta\n",
    "except ModuleNotFoundError:\n",
    "  !pip install pandas_ta\n",
    "  pass\n",
    "\n",
    "try:\n",
    "  import binance\n",
    "except ModuleNotFoundError:\n",
    "  !pip install python-binance\n",
    "  pass\n",
    "#Notes\n",
    "#https://medium.datadriveninvestor.com/the-supertrend-implementing-screening-backtesting-in-python-70e8f88f383d\n",
    "#https://twopirllc.github.io/pandas-ta/#overlap-33\n",
    "\n",
    "# Don't forget to activate"
   ]
  },
  {
   "cell_type": "code",
   "execution_count": 2,
   "metadata": {
    "executionInfo": {
     "elapsed": 2018,
     "status": "ok",
     "timestamp": 1653052050804,
     "user": {
      "displayName": "Romeo ADJOVI",
      "userId": "10846381796436650679"
     },
     "user_tz": -60
    },
    "id": "0BB22clTbxCx"
   },
   "outputs": [],
   "source": [
    "#basestuffs\n",
    "import pandas as pd\n",
    "import numpy as np\n",
    "import matplotlib.pyplot as plt\n",
    "\n",
    "#timestuffs\n",
    "from datetime import datetime, timedelta\n",
    "import time\n",
    "\n",
    "#financestuffs\n",
    "import pandas_ta as ta\n",
    "import math\n",
    "import configparser\n",
    "from binance import Client, ThreadedWebsocketManager, ThreadedDepthCacheManager\n",
    "from binance.exceptions import BinanceAPIException\n",
    "\n",
    "#query\n",
    "import urllib.request\n",
    "import json\n",
    "from google.colab import drive"
   ]
  },
  {
   "cell_type": "code",
   "execution_count": 3,
   "metadata": {
    "colab": {
     "base_uri": "https://localhost:8080/"
    },
    "executionInfo": {
     "elapsed": 37843,
     "status": "ok",
     "timestamp": 1653052088637,
     "user": {
      "displayName": "Romeo ADJOVI",
      "userId": "10846381796436650679"
     },
     "user_tz": -60
    },
    "id": "--BmmkPG58Gt",
    "outputId": "c34b2890-31f4-4497-acff-ddeb540eef20"
   },
   "outputs": [
    {
     "name": "stdout",
     "output_type": "stream",
     "text": [
      "Mounted at /content/drive\n"
     ]
    }
   ],
   "source": [
    "drive.mount('/content/drive', force_remount=False)"
   ]
  },
  {
   "cell_type": "markdown",
   "metadata": {
    "id": "VZblTmQzZU2_"
   },
   "source": [
    "## Parameters"
   ]
  },
  {
   "cell_type": "code",
   "execution_count": 4,
   "metadata": {
    "executionInfo": {
     "elapsed": 1928,
     "status": "ok",
     "timestamp": 1653052090547,
     "user": {
      "displayName": "Romeo ADJOVI",
      "userId": "10846381796436650679"
     },
     "user_tz": -60
    },
    "id": "LtVgP_lzIJ4G"
   },
   "outputs": [],
   "source": [
    "# ############### PARAMETERS ############################## #\n",
    "#crypto name\n",
    "crypto =\"BNB\"\n",
    "\n",
    "# TIMESPAN\n",
    "atr_period = 10\n",
    "atr_multiplier = 3\n",
    "p = 2 # number of times atr should be added or removed from current price to obtain Target \n",
    "q = 2 # number of times atr should be added or removed from current price to obtain StopLoss\n",
    "\n",
    "# FREQ\n",
    "#fr_bnb = '1h'\n",
    "fr_bnb = '1m'\n",
    "fr_ml = 'H'\n",
    "lm= 1000000\n",
    "ln_tf = \"15min\" #lunarcrush timeframe\n",
    "interval = Client.KLINE_INTERVAL_1MINUTE\n",
    "limit = 1\n",
    "\n",
    "#lunarcashapi\n",
    "api_key = '5npiw6btuqo9hgg5sut30c'\n",
    "\n",
    "################ API Instantiation\n",
    "# instantiate parser to load ini file\n",
    "config = configparser.ConfigParser()\n",
    "config.read('/content/drive/MyDrive/Colab Notebooks/CryptoBots/CryptoBot/credentials.ini') #Set to TESTNET\n",
    "\n",
    "api_k = config['general']['api_k']\n",
    "api_sk = config['general']['api_sk']\n",
    "\n",
    "# TESTNET instantiate parser to load ini file\n",
    "t_config = configparser.ConfigParser()\n",
    "t_config.read('/content/drive/MyDrive/Colab Notebooks/CryptoBots/CryptoBot/testnet_credentials.ini') #Set to TESTNET 1, for TESTNET 2 'goku_testnet_credentials.ini' \n",
    "\n",
    "t_api_k = t_config['general']['api_k']\n",
    "t_api_sk = t_config['general']['api_sk']"
   ]
  },
  {
   "cell_type": "markdown",
   "metadata": {
    "id": "0YvC7qgSZYIO"
   },
   "source": [
    "## Functions"
   ]
  },
  {
   "cell_type": "code",
   "execution_count": 5,
   "metadata": {
    "executionInfo": {
     "elapsed": 36,
     "status": "ok",
     "timestamp": 1653052090548,
     "user": {
      "displayName": "Romeo ADJOVI",
      "userId": "10846381796436650679"
     },
     "user_tz": -60
    },
    "id": "mZpzi5RsIRRz"
   },
   "outputs": [],
   "source": [
    "def get_hklines(symbol, interval, limit=7):\n",
    "  \n",
    "  #df = pd.DataFrame()\n",
    "  #url = 'https://api.binance.com/api/v3/klines?symbol=' + \\\n",
    "  #        symbol + '&interval=' + interval + '&limit='  + str(limit)\n",
    "  try:\n",
    "    #klines = client.get_historical_klines(\"BNBBTC\", Client.KLINE_INTERVAL_1MINUTE, \"1 day ago UTC\")        \n",
    "    hklines = client.get_historical_klines(symbol, interval, str(limit) + \" day ago\")\n",
    "    df = pd.DataFrame(hklines, columns=['Datetime', 'Open', 'High', 'Low', 'Close', 'Volume', 'Close_time', 'Quote_asset_volume', 'Number_of_trades', 'Taker_buy_base_asset_volume', 'Taker_buy_quote_asset_volume', 'Ignore'])\n",
    "    \n",
    "  except BinanceAPIException as e:\n",
    "    print(e)\n",
    "    time.sleep(60*5)\n",
    "  \n",
    "  df['Datetime'] = df['Datetime'].astype('datetime64[ms]')\n",
    "  df['Close_time'] = df['Close_time'].astype('datetime64[ms]')     \n",
    "  \n",
    "  #df.set_index('Datetime', inplace=True)\n",
    "  #cols = df.columns[df.dtypes.eq('object')]\n",
    "  #df[cols] = df[cols].apply(pd.to_numeric, errors='coerce')\n",
    "  \n",
    "  #print(url)\n",
    "\n",
    "  #df2 = pd.read_json(url)\n",
    "  #df2.columns = ['Opentime', 'Open', 'High', 'Low', 'Close', 'Volume', 'Closetime', 'Quote asset volume', 'Number of trades','Taker by base', 'Taker buy quote', 'Ignore']\n",
    "  #df = pd.concat([df2, df], axis=0, ignore_index=True, keys=None)\n",
    "       \n",
    "  df.set_index('Datetime', inplace=True)\n",
    "  cols = df.columns[df.dtypes.eq('object')]\n",
    "  df[cols] = df[cols].apply(pd.to_numeric, errors='coerce')\n",
    "  df = df[['Open', 'High', 'Low', 'Close', 'Volume']]\n",
    "  \n",
    "  return df "
   ]
  },
  {
   "cell_type": "code",
   "execution_count": 6,
   "metadata": {
    "executionInfo": {
     "elapsed": 35,
     "status": "ok",
     "timestamp": 1653052090550,
     "user": {
      "displayName": "Romeo ADJOVI",
      "userId": "10846381796436650679"
     },
     "user_tz": -60
    },
    "id": "VN2SnslTYPl8"
   },
   "outputs": [],
   "source": [
    "def conditions(df, p=6, q=6):\n",
    "  #add supatrend\n",
    "  df['st_value'] = df.ta.supertrend(period=atr_period, multiplier=atr_multiplier)['SUPERT_7_3.0']\n",
    "  df['st_ind'] = df.ta.supertrend(period=atr_period, multiplier=atr_multiplier)['SUPERTd_7_3.0']\n",
    "\n",
    "  # EMA200, ATR and StochRSI\n",
    "  df['ema200'] = df.ta.ema(length=200)\n",
    "  df['atr'] = df.ta.atr()\n",
    "  df['rsi_stoch_k'] = df.ta.stochrsi(length = 14, k=1)['STOCHRSIk_14_14_1_3']\n",
    "  df['rsi_stoch_d'] = df.ta.stochrsi(length = 14, k=1)['STOCHRSId_14_14_1_3']\n",
    "  df.dropna(inplace=True)\n",
    "\n",
    "  # Some conditions\n",
    "  #df['price_above_ema200'] = np.where(df.Close>df.ema200, 1, 0)\n",
    "  #df['rsi_sig'] = np.where(df['rsi_stoch_k'] < 20, 1, 0) + np.where(df['rsi_stoch_k'] > 80, -1, 0) # <20 (oversold) value is 1, >80 value is 80 (overbought) # RSI-K used in the strat\n",
    "  \n",
    "  # rsi_sig_dif = 1 crossing downtrend 80 // crossing downtrend 20 (BUY SIG)\n",
    "  # rsi_sig_dif = -1 crossing uptrend 80 (SELL SIG) // crossing uptrend 20\n",
    "  #df['rsi_sig_diff'] = df['rsi_sig'].diff()\n",
    "  df['Buy'] = np.where((df.Close > df.ema200) & (df['st_ind'] == 1) & (df['rsi_stoch_k'] < 20), 1, 0)\n",
    "\n",
    "  #comment \n",
    "  #(df.Close - p * df.atr  >= df.Low.shift(-1)), 1, 0)\n",
    "  # check if the trade would have worked // check if the lower price of next period is higher than our stoploss\n",
    "\n",
    "  # Ratio p:q\n",
    "  df['Target'] = np.where(df['Buy'] == 1, df.Close + p * df.atr, 0) \n",
    "  df['Stop'] = np.where(df['Buy'] == 1, df.Close - q * df.atr, 0) \n",
    " \n",
    "  return df"
   ]
  },
  {
   "cell_type": "code",
   "execution_count": 7,
   "metadata": {
    "executionInfo": {
     "elapsed": 33,
     "status": "ok",
     "timestamp": 1653052090550,
     "user": {
      "displayName": "Romeo ADJOVI",
      "userId": "10846381796436650679"
     },
     "user_tz": -60
    },
    "id": "TIdcp7J08BS5"
   },
   "outputs": [],
   "source": [
    "def buys_sells_df(df):\n",
    "  \n",
    "  # Builds a Buy and Sell dataframe to check profitability\n",
    "  ### Buy and Sell conditions\n",
    "  buys, sells = [], []\n",
    "  for i in range(len(df)):\n",
    "    if df.Buy.iloc[i]:\n",
    "      buys.append(df.iloc[i].name)\n",
    "      \n",
    "      for j in range(len(df) - i):\n",
    "        if df.Target.iloc[i] < df.Close.iloc[i + j] or \\\n",
    "        df.Stop.iloc[i] > df.Close.iloc[i + j]:\n",
    "          sells.append(df.iloc[i + j].name)\n",
    "          break\n",
    "  frame = pd.DataFrame([buys,sells]).T.dropna()\n",
    "  frame.columns = ['Buys', 'Sells']\n",
    "  return frame"
   ]
  },
  {
   "cell_type": "code",
   "execution_count": 8,
   "metadata": {
    "executionInfo": {
     "elapsed": 33,
     "status": "ok",
     "timestamp": 1653052090551,
     "user": {
      "displayName": "Romeo ADJOVI",
      "userId": "10846381796436650679"
     },
     "user_tz": -60
    },
    "id": "PkACr496QYgE"
   },
   "outputs": [],
   "source": [
    "def get_lunarcash(api_key, crypto, datapoints, ln_tf):\n",
    "  ur = \"https://api.lunarcrush.com/v2?data=assets&key=\" + api_key + \"&symbol=\" + crypto + \"&data_points=\"+ str(datapoints) +\"&interval=\" + ln_tf\n",
    "  ass = json.loads(urllib.request.urlopen(ur).read())\n",
    "  print(ur)\n",
    "  #collect id and symbol // timeseries\n",
    "  lab = pd.DataFrame(ass['data'])[['id', 'name','symbol']]\n",
    "  ts = pd.DataFrame(ass['data'][0]['timeSeries'])\n",
    "  #merge\n",
    "  lncrush = pd.merge(lab, ts, how='right', left_on='id', right_on='asset_id')\n",
    "  lncrush['time'] = pd.to_datetime(lncrush['time'], unit='s')\n",
    "\n",
    "  lncrush = lncrush[['symbol', 'asset_id', 'time', 'open', 'close', 'high',\n",
    "       'low', 'volume', 'market_cap', 'average_sentiment', 'price_score', \n",
    "       'social_impact_score','correlation_rank', 'galaxy_score', 'volatility', \n",
    "       'alt_rank']]\n",
    "  lncrush.rename(columns={\"time\":\"date\"}, inplace=True)\n",
    "  lncrush.index = lncrush.date\n",
    "\n",
    "  return lncrush"
   ]
  },
  {
   "cell_type": "code",
   "execution_count": 9,
   "metadata": {
    "executionInfo": {
     "elapsed": 33,
     "status": "ok",
     "timestamp": 1653052090552,
     "user": {
      "displayName": "Romeo ADJOVI",
      "userId": "10846381796436650679"
     },
     "user_tz": -60
    },
    "id": "y1iUW-rsY2iB"
   },
   "outputs": [],
   "source": [
    "def plot_supatrend_stoch(df, actualtrades):\n",
    "  # SupaTrend & Plot\n",
    "  \n",
    "  st = df.ta.supertrend(period=atr_period, multiplier=atr_multiplier)\n",
    "  strsi = pd.DataFrame({'STOCHRSIk_14_14_1_3' : df.ta.stochrsi(length = 14, k=1)['STOCHRSIk_14_14_1_3'], 'STOCHRSId_14_14_1_3' : df.ta.stochrsi(length = 14, k=1)['STOCHRSId_14_14_1_3'], \"HI\" : [80]*len(df.ta.stochrsi(length = 14, k=1).index), \"LO\" : [20]*len(df.ta.stochrsi(length = 14, k=1).index)})\n",
    "  st[\"Close\"] = df.Close\n",
    "  st[\"ema200\"] = df.ema200\n",
    "  #print(st.columns)\n",
    "\n",
    "  #figures\n",
    "\n",
    "  fig, (ax1, ax2) = plt.subplots(2,1, sharex = True, gridspec_kw={'height_ratios': [3, 1]}, figsize=(20,10))\n",
    "  \n",
    "  ax1.plot(st['SUPERTl_7_3.0'], color='green', label='SuperTrend LONG')\n",
    "  ax1.plot(st['SUPERTs_7_3.0'], color='red', label='SuperTrend SHORT')\n",
    "  ax1.plot(st['Close'], color='black', label='Price')\n",
    "  ax1.plot(st[st.columns[-3:]]['ema200'], color='blue', label='ema200')\n",
    "  ax1.set_title(crypto + \" - \" + fr_bnb)\n",
    "  ax1.plot(actualtrades.Buys, df.loc[actualtrades.Buys]['Close'], '^', markersize=10, color='g')\n",
    "  ax1.plot(actualtrades.Sells, df.loc[actualtrades.Sells]['Close'], '^', markersize=10, color='r')\n",
    "  ax1.legend()\n",
    "\n",
    "  ax2.plot(strsi['STOCHRSIk_14_14_1_3'], color ='red', label='stoch. RSI k')\n",
    "  ax2.plot(strsi['STOCHRSId_14_14_1_3'], color='blue', label='stoch. RSI D')\n",
    "  ax2.plot(strsi['HI'], color='black', linestyle=\"--\")\n",
    "  ax2.plot(strsi['LO'], color='black', linestyle=\"--\")\n",
    "  ax2.grid(True)\n",
    "  ax2.legend()\n",
    "  plt.show()\n",
    " "
   ]
  },
  {
   "cell_type": "markdown",
   "metadata": {
    "id": "5VNM-UWtZFHT"
   },
   "source": [
    "## Load data"
   ]
  },
  {
   "cell_type": "code",
   "execution_count": 10,
   "metadata": {
    "executionInfo": {
     "elapsed": 31,
     "status": "ok",
     "timestamp": 1653052090552,
     "user": {
      "displayName": "Romeo ADJOVI",
      "userId": "10846381796436650679"
     },
     "user_tz": -60
    },
    "id": "8zN5NTfK5FwP"
   },
   "outputs": [],
   "source": [
    "client = Client(t_api_k, t_api_sk, testnet=True)"
   ]
  },
  {
   "cell_type": "code",
   "execution_count": 11,
   "metadata": {
    "colab": {
     "base_uri": "https://localhost:8080/",
     "height": 112
    },
    "executionInfo": {
     "elapsed": 2034,
     "status": "ok",
     "timestamp": 1653052092556,
     "user": {
      "displayName": "Romeo ADJOVI",
      "userId": "10846381796436650679"
     },
     "user_tz": -60
    },
    "id": "Ql0EZXndYyor",
    "outputId": "22bb5e01-9961-4844-aa5b-077922e7fc49"
   },
   "outputs": [
    {
     "data": {
      "text/html": [
       "\n",
       "  <div id=\"df-c3edd6b7-6ee6-45d4-bf77-92d39562b0ba\">\n",
       "    <div class=\"colab-df-container\">\n",
       "      <div>\n",
       "<style scoped>\n",
       "    .dataframe tbody tr th:only-of-type {\n",
       "        vertical-align: middle;\n",
       "    }\n",
       "\n",
       "    .dataframe tbody tr th {\n",
       "        vertical-align: top;\n",
       "    }\n",
       "\n",
       "    .dataframe thead th {\n",
       "        text-align: right;\n",
       "    }\n",
       "</style>\n",
       "<table border=\"1\" class=\"dataframe\">\n",
       "  <thead>\n",
       "    <tr style=\"text-align: right;\">\n",
       "      <th></th>\n",
       "      <th>Open</th>\n",
       "      <th>High</th>\n",
       "      <th>Low</th>\n",
       "      <th>Close</th>\n",
       "      <th>Volume</th>\n",
       "    </tr>\n",
       "    <tr>\n",
       "      <th>Datetime</th>\n",
       "      <th></th>\n",
       "      <th></th>\n",
       "      <th></th>\n",
       "      <th></th>\n",
       "      <th></th>\n",
       "    </tr>\n",
       "  </thead>\n",
       "  <tbody>\n",
       "    <tr>\n",
       "      <th>2022-05-19 13:09:00</th>\n",
       "      <td>301.4</td>\n",
       "      <td>301.5</td>\n",
       "      <td>301.4</td>\n",
       "      <td>301.5</td>\n",
       "      <td>6.67</td>\n",
       "    </tr>\n",
       "  </tbody>\n",
       "</table>\n",
       "</div>\n",
       "      <button class=\"colab-df-convert\" onclick=\"convertToInteractive('df-c3edd6b7-6ee6-45d4-bf77-92d39562b0ba')\"\n",
       "              title=\"Convert this dataframe to an interactive table.\"\n",
       "              style=\"display:none;\">\n",
       "        \n",
       "  <svg xmlns=\"http://www.w3.org/2000/svg\" height=\"24px\"viewBox=\"0 0 24 24\"\n",
       "       width=\"24px\">\n",
       "    <path d=\"M0 0h24v24H0V0z\" fill=\"none\"/>\n",
       "    <path d=\"M18.56 5.44l.94 2.06.94-2.06 2.06-.94-2.06-.94-.94-2.06-.94 2.06-2.06.94zm-11 1L8.5 8.5l.94-2.06 2.06-.94-2.06-.94L8.5 2.5l-.94 2.06-2.06.94zm10 10l.94 2.06.94-2.06 2.06-.94-2.06-.94-.94-2.06-.94 2.06-2.06.94z\"/><path d=\"M17.41 7.96l-1.37-1.37c-.4-.4-.92-.59-1.43-.59-.52 0-1.04.2-1.43.59L10.3 9.45l-7.72 7.72c-.78.78-.78 2.05 0 2.83L4 21.41c.39.39.9.59 1.41.59.51 0 1.02-.2 1.41-.59l7.78-7.78 2.81-2.81c.8-.78.8-2.07 0-2.86zM5.41 20L4 18.59l7.72-7.72 1.47 1.35L5.41 20z\"/>\n",
       "  </svg>\n",
       "      </button>\n",
       "      \n",
       "  <style>\n",
       "    .colab-df-container {\n",
       "      display:flex;\n",
       "      flex-wrap:wrap;\n",
       "      gap: 12px;\n",
       "    }\n",
       "\n",
       "    .colab-df-convert {\n",
       "      background-color: #E8F0FE;\n",
       "      border: none;\n",
       "      border-radius: 50%;\n",
       "      cursor: pointer;\n",
       "      display: none;\n",
       "      fill: #1967D2;\n",
       "      height: 32px;\n",
       "      padding: 0 0 0 0;\n",
       "      width: 32px;\n",
       "    }\n",
       "\n",
       "    .colab-df-convert:hover {\n",
       "      background-color: #E2EBFA;\n",
       "      box-shadow: 0px 1px 2px rgba(60, 64, 67, 0.3), 0px 1px 3px 1px rgba(60, 64, 67, 0.15);\n",
       "      fill: #174EA6;\n",
       "    }\n",
       "\n",
       "    [theme=dark] .colab-df-convert {\n",
       "      background-color: #3B4455;\n",
       "      fill: #D2E3FC;\n",
       "    }\n",
       "\n",
       "    [theme=dark] .colab-df-convert:hover {\n",
       "      background-color: #434B5C;\n",
       "      box-shadow: 0px 1px 3px 1px rgba(0, 0, 0, 0.15);\n",
       "      filter: drop-shadow(0px 1px 2px rgba(0, 0, 0, 0.3));\n",
       "      fill: #FFFFFF;\n",
       "    }\n",
       "  </style>\n",
       "\n",
       "      <script>\n",
       "        const buttonEl =\n",
       "          document.querySelector('#df-c3edd6b7-6ee6-45d4-bf77-92d39562b0ba button.colab-df-convert');\n",
       "        buttonEl.style.display =\n",
       "          google.colab.kernel.accessAllowed ? 'block' : 'none';\n",
       "\n",
       "        async function convertToInteractive(key) {\n",
       "          const element = document.querySelector('#df-c3edd6b7-6ee6-45d4-bf77-92d39562b0ba');\n",
       "          const dataTable =\n",
       "            await google.colab.kernel.invokeFunction('convertToInteractive',\n",
       "                                                     [key], {});\n",
       "          if (!dataTable) return;\n",
       "\n",
       "          const docLinkHtml = 'Like what you see? Visit the ' +\n",
       "            '<a target=\"_blank\" href=https://colab.research.google.com/notebooks/data_table.ipynb>data table notebook</a>'\n",
       "            + ' to learn more about interactive tables.';\n",
       "          element.innerHTML = '';\n",
       "          dataTable['output_type'] = 'display_data';\n",
       "          await google.colab.output.renderOutput(dataTable, element);\n",
       "          const docLink = document.createElement('div');\n",
       "          docLink.innerHTML = docLinkHtml;\n",
       "          element.appendChild(docLink);\n",
       "        }\n",
       "      </script>\n",
       "    </div>\n",
       "  </div>\n",
       "  "
      ],
      "text/plain": [
       "                      Open   High    Low  Close  Volume\n",
       "Datetime                                               \n",
       "2022-05-19 13:09:00  301.4  301.5  301.4  301.5    6.67"
      ]
     },
     "execution_count": 11,
     "metadata": {},
     "output_type": "execute_result"
    }
   ],
   "source": [
    "df = get_hklines(crypto+'USDT', interval, limit)\n",
    "df.head(1)"
   ]
  },
  {
   "cell_type": "code",
   "execution_count": 12,
   "metadata": {
    "executionInfo": {
     "elapsed": 32,
     "status": "ok",
     "timestamp": 1653052092557,
     "user": {
      "displayName": "Romeo ADJOVI",
      "userId": "10846381796436650679"
     },
     "user_tz": -60
    },
    "id": "auluhRXiQaag"
   },
   "outputs": [],
   "source": [
    "#data = get_lunarcash(api_key, crypto, lm, 'min')"
   ]
  },
  {
   "cell_type": "markdown",
   "metadata": {
    "id": "1EfQWHukrlci"
   },
   "source": [
    "## Conditions"
   ]
  },
  {
   "cell_type": "markdown",
   "metadata": {
    "id": "hOqPSlBFrnkk"
   },
   "source": [
    "Let's define buying and selling conditions as stated in https://www.youtube.com/watch?v=6zOMjMGM0ko&t=7s\n",
    "\n",
    "LONG Conditions:\n",
    "\n",
    "\n",
    "*   Price over ema200\n",
    "*   Long signal on SuperTrend\n",
    "*   Stock RSI under 20\n",
    "\n",
    "SHORT Conditions:\n",
    "\n",
    "\n",
    "*   Price under ema200\n",
    "*   SHORT signal on SuperTrend\n",
    "*   Stock RSI over 80\n",
    "\n",
    "SIMPLE SPOT VERSION\n",
    "* Market : CRYPTO\n",
    "* Define Trend : stock above 200-day ema\n",
    "* Entry : Stochastic RSI comes below 20\n",
    "* Target Price : 6 * ATR Higher or Lower to the Entry Price\n"
   ]
  },
  {
   "cell_type": "code",
   "execution_count": 12,
   "metadata": {
    "executionInfo": {
     "elapsed": 32,
     "status": "ok",
     "timestamp": 1653052092558,
     "user": {
      "displayName": "Romeo ADJOVI",
      "userId": "10846381796436650679"
     },
     "user_tz": -60
    },
    "id": "16L0Iu6V5Bxz"
   },
   "outputs": [],
   "source": []
  },
  {
   "cell_type": "code",
   "execution_count": 13,
   "metadata": {
    "executionInfo": {
     "elapsed": 31,
     "status": "ok",
     "timestamp": 1653052092558,
     "user": {
      "displayName": "Romeo ADJOVI",
      "userId": "10846381796436650679"
     },
     "user_tz": -60
    },
    "id": "A-yOsLIpnbFK"
   },
   "outputs": [],
   "source": [
    "df = conditions(df, p, q)"
   ]
  },
  {
   "cell_type": "markdown",
   "metadata": {
    "id": "5Rw4QOSfLpmo"
   },
   "source": [
    "## Backtest Trades and Profits"
   ]
  },
  {
   "cell_type": "code",
   "execution_count": 14,
   "metadata": {
    "colab": {
     "base_uri": "https://localhost:8080/"
    },
    "executionInfo": {
     "elapsed": 32,
     "status": "ok",
     "timestamp": 1653052092559,
     "user": {
      "displayName": "Romeo ADJOVI",
      "userId": "10846381796436650679"
     },
     "user_tz": -60
    },
    "id": "hfGzBHviNMRc",
    "outputId": "67cbcad9-266a-4f9f-d8b5-9eb0180f9a39"
   },
   "outputs": [
    {
     "data": {
      "text/plain": [
       "(1241, 14)"
      ]
     },
     "execution_count": 14,
     "metadata": {},
     "output_type": "execute_result"
    }
   ],
   "source": [
    "#%load_ext google.colab.data_table\n",
    "df.shape"
   ]
  },
  {
   "cell_type": "code",
   "execution_count": 15,
   "metadata": {
    "executionInfo": {
     "elapsed": 1444,
     "status": "ok",
     "timestamp": 1653052093974,
     "user": {
      "displayName": "Romeo ADJOVI",
      "userId": "10846381796436650679"
     },
     "user_tz": -60
    },
    "id": "FGVRnV_s8zc_"
   },
   "outputs": [],
   "source": [
    "frame = buys_sells_df(df)\n",
    "actualtrades = frame[frame.Buys > frame.Sells.shift(1)]\n",
    "actualtrades = frame[:1].append(actualtrades)"
   ]
  },
  {
   "cell_type": "code",
   "execution_count": 16,
   "metadata": {
    "colab": {
     "base_uri": "https://localhost:8080/"
    },
    "executionInfo": {
     "elapsed": 69,
     "status": "ok",
     "timestamp": 1653052093990,
     "user": {
      "displayName": "Romeo ADJOVI",
      "userId": "10846381796436650679"
     },
     "user_tz": -60
    },
    "id": "yxwpbV6KvaIh",
    "outputId": "6a389633-7125-44ca-ae38-c2b535552ba8"
   },
   "outputs": [
    {
     "data": {
      "text/plain": [
       "4"
      ]
     },
     "execution_count": 16,
     "metadata": {},
     "output_type": "execute_result"
    }
   ],
   "source": [
    "len(actualtrades)"
   ]
  },
  {
   "cell_type": "code",
   "execution_count": 17,
   "metadata": {
    "executionInfo": {
     "elapsed": 66,
     "status": "ok",
     "timestamp": 1653052093991,
     "user": {
      "displayName": "Romeo ADJOVI",
      "userId": "10846381796436650679"
     },
     "user_tz": -60
    },
    "id": "TVqVTa33vkci"
   },
   "outputs": [],
   "source": [
    "#print(df.loc[actualtrades.Buys[0]])\n",
    "#print(df.loc[actualtrades.Sells[0]])\n",
    "\n",
    "#((df.loc[actualtrades.Sells].Close.values - df.loc[actualtrades.Buys].Close.values) / df.loc[actualtrades.Buys].Close.values).mean() * 100"
   ]
  },
  {
   "cell_type": "code",
   "execution_count": 18,
   "metadata": {
    "colab": {
     "base_uri": "https://localhost:8080/"
    },
    "executionInfo": {
     "elapsed": 66,
     "status": "ok",
     "timestamp": 1653052093992,
     "user": {
      "displayName": "Romeo ADJOVI",
      "userId": "10846381796436650679"
     },
     "user_tz": -60
    },
    "id": "X5GPn2YGBl_T",
    "outputId": "880fb441-2da3-4fd7-f8fb-5cc3108f0686"
   },
   "outputs": [
    {
     "name": "stdout",
     "output_type": "stream",
     "text": [
      "4 wins out of 4 trades i.e. 100.0 % winrate and a relative profit of 1.4794205643437843 % and a cumulative return of 1.060492399441721 \n"
     ]
    }
   ],
   "source": [
    "# Profits\n",
    "profits = (df.loc[actualtrades.Sells].Close.values - df.loc[actualtrades.Buys].Close.values) / df.loc[actualtrades.Buys].Close.values\n",
    "win = len([i for i in profits if i> 0])\n",
    "print('{} wins out of {} trades i.e. {} % winrate and a relative profit of {} % and a cumulative return of {} '.format(win, len(profits), 100 * win/len(profits), profits.mean() * 100, (profits + 1).cumprod()[-1]))"
   ]
  },
  {
   "cell_type": "code",
   "execution_count": 18,
   "metadata": {
    "executionInfo": {
     "elapsed": 64,
     "status": "ok",
     "timestamp": 1653052093995,
     "user": {
      "displayName": "Romeo ADJOVI",
      "userId": "10846381796436650679"
     },
     "user_tz": -60
    },
    "id": "IIh-Czwv_bnD"
   },
   "outputs": [],
   "source": []
  },
  {
   "cell_type": "code",
   "execution_count": 32,
   "metadata": {
    "colab": {
     "base_uri": "https://localhost:8080/"
    },
    "executionInfo": {
     "elapsed": 585105,
     "status": "ok",
     "timestamp": 1653055591358,
     "user": {
      "displayName": "Romeo ADJOVI",
      "userId": "10846381796436650679"
     },
     "user_tz": -60
    },
    "id": "O6A-khLHKv12",
    "outputId": "6785834d-679b-4feb-97aa-d8ce9338c324"
   },
   "outputs": [
    {
     "name": "stdout",
     "output_type": "stream",
     "text": [
      "start optimization\n",
      "852.412693691\n",
      "1249.339371557\n",
      "396.9266778660001\n",
      "end optimization\n",
      "     fun: -0.014641792437905502\n",
      " message: 'Optimization terminated successfully.'\n",
      "    nfev: 63\n",
      "     nit: 1\n",
      " success: True\n",
      "       x: array([10.24592297,  2.4423953 ])\n",
      "Solution: f([10.24592297  2.4423953 ]) = 0.01464\n",
      "all good\n"
     ]
    }
   ],
   "source": [
    "import pandas as pd\n",
    "from scipy.optimize import differential_evolution\n",
    "import time\n",
    "\n",
    "def optimizer_function(v):\n",
    "  v = p, q\n",
    "  df = df_generator(p, q)[0]\n",
    "  a = df_generator(p, q)[1]\n",
    "  return profit_function(df, a)\n",
    "\n",
    "def df_generator(p, q):\n",
    "  df = get_hklines(crypto+'USDT', interval, limit)\n",
    "  df = conditions(df, p, q)\n",
    "  at = buys_sells_df(df)[:1].append(buys_sells_df(df)[buys_sells_df(df).Buys > buys_sells_df(df).Sells.shift(1)])\n",
    "  #print(at)\n",
    "  return df, at\n",
    "\n",
    "def profit_function(df, at):\n",
    "  profit = (df.loc[at.Sells].Close.values - df.loc[at.Buys].Close.values) / df.loc[at.Buys].Close.values\n",
    "  return - profit.mean()\n",
    "\n",
    "\n",
    "def optimiser():\n",
    "  print(\"start optimization\")\n",
    "  start = time.process_time()\n",
    "  print(start)\n",
    "  result = differential_evolution(func=optimizer_function, bounds=[(0.1,20),(0.1,20)])\n",
    "  end = time.process_time()\n",
    "  print(end)\n",
    "  print(end - start)\n",
    "  print(\"end optimization\")\n",
    "  print(result)\n",
    "  solution = result['x']\n",
    "  evaluation = - result['fun']\n",
    "  print('Solution: f(%s) = %.5f' % (solution, evaluation))\n",
    "  return(solution)\n",
    "\n",
    "\n",
    "if __name__ == '__main__':\n",
    "    r = optimiser()\n",
    "    print(\"all good\")"
   ]
  },
  {
   "cell_type": "code",
   "execution_count": 35,
   "metadata": {
    "colab": {
     "base_uri": "https://localhost:8080/"
    },
    "executionInfo": {
     "elapsed": 5888,
     "status": "ok",
     "timestamp": 1653055705602,
     "user": {
      "displayName": "Romeo ADJOVI",
      "userId": "10846381796436650679"
     },
     "user_tz": -60
    },
    "id": "tcLqW9J8SyBK",
    "outputId": "584fc211-a81d-411b-cb61-9d3d546e00ae"
   },
   "outputs": [
    {
     "name": "stdout",
     "output_type": "stream",
     "text": [
      "0.05917682257375138\n",
      "0.03009782777521013\n"
     ]
    }
   ],
   "source": [
    "def p_f(df, at):\n",
    "  profit = (df.loc[at.Sells].Close.values - df.loc[at.Buys].Close.values) / df.loc[at.Buys].Close.values\n",
    "  return  - profit.sum()\n",
    "\n",
    "print(profits.sum()) #+ \n",
    "print(p_f(df_generator(r[0], r[1])[0], df_generator(r[0], r[1])[1]))"
   ]
  },
  {
   "cell_type": "code",
   "execution_count": 36,
   "metadata": {
    "colab": {
     "base_uri": "https://localhost:8080/"
    },
    "executionInfo": {
     "elapsed": 564,
     "status": "ok",
     "timestamp": 1653055713813,
     "user": {
      "displayName": "Romeo ADJOVI",
      "userId": "10846381796436650679"
     },
     "user_tz": -60
    },
    "id": "WVLJlQoc1FlE",
    "outputId": "4c3eb4b2-bdcc-4837-e738-01524510a8e3"
   },
   "outputs": [
    {
     "data": {
      "text/plain": [
       "array([0.01696021, 0.01270772, 0.01716321, 0.01234568])"
      ]
     },
     "execution_count": 36,
     "metadata": {},
     "output_type": "execute_result"
    }
   ],
   "source": [
    "profits"
   ]
  },
  {
   "cell_type": "code",
   "execution_count": null,
   "metadata": {
    "executionInfo": {
     "elapsed": 74,
     "status": "aborted",
     "timestamp": 1653055591363,
     "user": {
      "displayName": "Romeo ADJOVI",
      "userId": "10846381796436650679"
     },
     "user_tz": -60
    },
    "id": "b3mTOXG6TfB4"
   },
   "outputs": [],
   "source": [
    "plot_supatrend_stoch(df, actualtrades)\n",
    "#df.columns"
   ]
  },
  {
   "cell_type": "code",
   "execution_count": null,
   "metadata": {
    "executionInfo": {
     "elapsed": 76,
     "status": "aborted",
     "timestamp": 1653055591366,
     "user": {
      "displayName": "Romeo ADJOVI",
      "userId": "10846381796436650679"
     },
     "user_tz": -60
    },
    "id": "f-ZXvWcEN66-"
   },
   "outputs": [],
   "source": [
    "df.tail(2)"
   ]
  },
  {
   "cell_type": "markdown",
   "metadata": {
    "id": "LdnRkzvHKCCH"
   },
   "source": [
    "## Build Signals and live trading on Binance Testnet"
   ]
  },
  {
   "cell_type": "code",
   "execution_count": null,
   "metadata": {
    "executionInfo": {
     "elapsed": 61,
     "status": "aborted",
     "timestamp": 1653052093998,
     "user": {
      "displayName": "Romeo ADJOVI",
      "userId": "10846381796436650679"
     },
     "user_tz": -60
    },
    "id": "N2QIJIo4qIur"
   },
   "outputs": [],
   "source": [
    "# Build signals class to ease work\n",
    "class Signals:\n",
    "\n",
    "  def __init__(self,df, lags):\n",
    "    self.df = df\n",
    "    self.lags = lags\n",
    "\n",
    "  def gettrigger(self):\n",
    "    dfx = pd.DataFrame()\n",
    "    for i in range(self.lags + 1):\n",
    "      mask = (self.df['rsi_stoch_k'].shift(i) < 20)\n",
    "      dfx = dfx.append(mask, ignore_index = True)\n",
    "    return dfx.sum(axis=0)\n",
    "\n",
    "  def decide(self):\n",
    "    self.df['trigger'] = np.where(self.gettrigger, 1, 0)\n",
    "    self.df['Buy'] = np.where((self.df.trigger) & (self.df.Close > self.df['ema200']) & (self.df['st_ind'] ==1 ), 1, 0)\n",
    "    #self.df['Buy'] = np.where((self.df.trigger) & (self.df['rsi_stoch_k'] <20) & (self.df['price_above_ema200']==1) & (self.df['st_ind']==1), 1, 0)\n",
    "    #(self.df['rsi_stoch_k'].between(20,80)) & # need reflexion -- should the rsi-D stay below 20 to place an order or should I wait for a breakout above 20?"
   ]
  },
  {
   "cell_type": "code",
   "execution_count": null,
   "metadata": {
    "executionInfo": {
     "elapsed": 61,
     "status": "aborted",
     "timestamp": 1653052093998,
     "user": {
      "displayName": "Romeo ADJOVI",
      "userId": "10846381796436650679"
     },
     "user_tz": -60
    },
    "id": "Zjf9L91cI-TI"
   },
   "outputs": [],
   "source": [
    "client.get_account()"
   ]
  },
  {
   "cell_type": "code",
   "execution_count": null,
   "metadata": {
    "executionInfo": {
     "elapsed": 61,
     "status": "aborted",
     "timestamp": 1653052093999,
     "user": {
      "displayName": "Romeo ADJOVI",
      "userId": "10846381796436650679"
     },
     "user_tz": -60
    },
    "id": "fhmyF1i8S7lc"
   },
   "outputs": [],
   "source": [
    "client.get_all_tickers()"
   ]
  },
  {
   "cell_type": "code",
   "execution_count": null,
   "metadata": {
    "executionInfo": {
     "elapsed": 62,
     "status": "aborted",
     "timestamp": 1653052094000,
     "user": {
      "displayName": "Romeo ADJOVI",
      "userId": "10846381796436650679"
     },
     "user_tz": -60
    },
    "id": "lG3_o1dTwDLD"
   },
   "outputs": [],
   "source": [
    "def strategy(crypto, qty, open_position=False):\n",
    "  df = get_klines_iter(crypto+'USDT',fr_bnb, limit=lm)\n",
    "  df = conditions(df)\n",
    "  inst = Signals(df, 5)\n",
    "  inst.decide()\n",
    "  print(f'Current close is ' + str(df.Close.iloc[-1]))\n",
    "  if df.Buy.iloc[-1]:\n",
    "    order = client.create_order(symbol=crypto+'USDT',\n",
    "                                 side='BUY',\n",
    "                                 type='MARKET',\n",
    "                                 quantity= qty)\n",
    "    print(order)\n",
    "    buyprice = float(order['fills'][0]['price'])\n",
    "    targetprice = buyprice + df.atr.iloc[-1] * 6 #as stated by the video 6 times atr as stop\n",
    "    stopprice = buyprice - df.atr.iloc[-1] * 6 #as stated by the video 6 times atr as stop\n",
    "    open_position = True\n",
    "\n",
    "  # Run strategy\n",
    "  while open_position:\n",
    "      time.sleep(0.5)\n",
    "      df = get_klines_iter(crypto+'USDT',fr_bnb, limit=2) #take 2 timesteps back records to monitor\n",
    "      print(f'Current Close is ' + str(df.Close.iloc[-1]))\n",
    "      print(f'Current Target is ' + str(targetprice))\n",
    "      print(f'Current Stop is ' + str(stopprice))\n",
    "      if df.Close[-1] <= stopprice or df.Close[-1] >= targetprice:\n",
    "        order = client.create_order(symbol = crypto+'USDT',\n",
    "                                    side = 'SELL',\n",
    "                                    type = 'MARKET',\n",
    "                                    quantity = qty)\n",
    "        print(order)\n",
    "        break"
   ]
  },
  {
   "cell_type": "code",
   "execution_count": null,
   "metadata": {
    "executionInfo": {
     "elapsed": 62,
     "status": "aborted",
     "timestamp": 1653052094000,
     "user": {
      "displayName": "Romeo ADJOVI",
      "userId": "10846381796436650679"
     },
     "user_tz": -60
    },
    "id": "znjInGITLHox"
   },
   "outputs": [],
   "source": [
    "# skip the cells from running\n",
    "%%script echo skipping\n",
    "\n",
    "while True:\n",
    "  strategy(crypto, 10)\n",
    "  time.sleep(0.5)"
   ]
  }
 ],
 "metadata": {
  "colab": {
   "authorship_tag": "ABX9TyPONsC3GmJY+Q3KKgcInw8h",
   "collapsed_sections": [],
   "mount_file_id": "1MpCxhb7A3wg5rhxms3HJl25qTQYZONIc",
   "name": "DE_p_q_SuperTrendMeo.ipynb",
   "provenance": [
    {
     "file_id": "1t0tV8-JzXNcjHhxx3IZqLk7JGJRtXdH_",
     "timestamp": 1653050738708
    },
    {
     "file_id": "1MpCxhb7A3wg5rhxms3HJl25qTQYZONIc",
     "timestamp": 1652905716401
    }
   ]
  },
  "kernelspec": {
   "display_name": "Python 3 (ipykernel)",
   "language": "python",
   "name": "python3"
  },
  "language_info": {
   "codemirror_mode": {
    "name": "ipython",
    "version": 3
   },
   "file_extension": ".py",
   "mimetype": "text/x-python",
   "name": "python",
   "nbconvert_exporter": "python",
   "pygments_lexer": "ipython3",
   "version": "3.8.8"
  }
 },
 "nbformat": 4,
 "nbformat_minor": 4
}
