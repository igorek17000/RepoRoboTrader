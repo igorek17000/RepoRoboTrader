{
 "cells": [
  {
   "cell_type": "markdown",
   "metadata": {
    "id": "Dd3RzqQbb0rP"
   },
   "source": [
    "# DE SuperTrend Meo"
   ]
  },
  {
   "cell_type": "markdown",
   "metadata": {
    "id": "TdxHV-T1ZOPj"
   },
   "source": [
    "## Import modules"
   ]
  },
  {
   "cell_type": "code",
   "execution_count": 1,
   "metadata": {
    "id": "cQA-hDyPcgzA"
   },
   "outputs": [],
   "source": [
    "#!pip install yfinance\n",
    "#!pip install pandas_ta\n",
    "#!pip install python-binance\n",
    "try:\n",
    "  import pandas_ta\n",
    "except ModuleNotFoundError:\n",
    "  !pip install pandas_ta\n",
    "  pass\n",
    "\n",
    "try:\n",
    "  import binance\n",
    "except ModuleNotFoundError:\n",
    "  !pip install python-binance\n",
    "  pass\n",
    "\n",
    "try:\n",
    "  import pymoo\n",
    "except ModuleNotFoundError:\n",
    "  !pip install pymoo\n",
    "  pass\n",
    "#Notes\n",
    "#https://medium.datadriveninvestor.com/the-supertrend-implementing-screening-backtesting-in-python-70e8f88f383d\n",
    "#https://twopirllc.github.io/pandas-ta/#overlap-33\n",
    "\n",
    "# Don't forget to activate"
   ]
  },
  {
   "cell_type": "code",
   "execution_count": 2,
   "metadata": {
    "id": "0BB22clTbxCx"
   },
   "outputs": [],
   "source": [
    "#basestuffs\n",
    "import pandas as pd\n",
    "import numpy as np\n",
    "import matplotlib.pyplot as plt\n",
    "\n",
    "#timestuffs\n",
    "from datetime import datetime, timedelta\n",
    "import time\n",
    "\n",
    "#financestuffs\n",
    "import pandas_ta as ta\n",
    "import math\n",
    "import configparser\n",
    "from binance import Client, ThreadedWebsocketManager, ThreadedDepthCacheManager\n",
    "from binance.exceptions import BinanceAPIException\n",
    "\n",
    "#query\n",
    "import urllib.request\n",
    "import json\n",
    "#from google.colab import drive #unactived for dektop version"
   ]
  },
  {
   "cell_type": "markdown",
   "metadata": {
    "id": "VZblTmQzZU2_"
   },
   "source": [
    "## Parameters"
   ]
  },
  {
   "cell_type": "code",
   "execution_count": 3,
   "metadata": {
    "id": "LtVgP_lzIJ4G"
   },
   "outputs": [],
   "source": [
    "# ############### PARAMETERS ############################## #\n",
    "#crypto name\n",
    "crypto =\"BNB\"\n",
    "\n",
    "# TIMESPAN\n",
    "atr_period = 10\n",
    "atr_multiplier = 3\n",
    "p = 9 # number of times atr should be added or removed from current price to obtain Target \n",
    "q = 25 # number of times atr should be added or removed from current price to obtain StopLoss\n",
    "\n",
    "# FREQ\n",
    "#fr_bnb = '1h'\n",
    "fr_bnb = '1m'\n",
    "fr_ml = 'H'\n",
    "lm= 1440\n",
    "ln_tf = \"15min\" #lunarcrush timeframe\n",
    "interval = Client.KLINE_INTERVAL_1MINUTE #KLINE_INTERVAL_10MINUTE\n",
    "limit = 3 #\n",
    "\n",
    "#lunarcashapi\n",
    "api_key = '5npiw6btuqo9hgg5sut30c'\n",
    "\n",
    "################ API Instantiation\n",
    "# instantiate parser to load ini file\n",
    "config = configparser.ConfigParser()\n",
    "config.read('CryptoBot/credentials.ini') #Set to TESTNET\n",
    "\n",
    "api_k = config['general']['api_k']\n",
    "api_sk = config['general']['api_sk']\n",
    "\n",
    "# TESTNET instantiate parser to load ini file\n",
    "t_config = configparser.ConfigParser()\n",
    "t_config.read('CryptoBot/testnet_credentials.ini') #Set to TESTNET 1, for TESTNET 2 'goku_testnet_credentials.ini' \n",
    "\n",
    "t_api_k = t_config['general']['api_k']\n",
    "t_api_sk = t_config['general']['api_sk']"
   ]
  },
  {
   "cell_type": "markdown",
   "metadata": {
    "id": "0YvC7qgSZYIO"
   },
   "source": [
    "## Functions"
   ]
  },
  {
   "cell_type": "code",
   "execution_count": 4,
   "metadata": {
    "id": "mZpzi5RsIRRz"
   },
   "outputs": [],
   "source": [
    "def get_hklines(symbol, interval, limit=7):\n",
    "  \n",
    "  #df = pd.DataFrame()\n",
    "  #url = 'https://api.binance.com/api/v3/klines?symbol=' + \\\n",
    "  #        symbol + '&interval=' + interval + '&limit='  + str(limit)\n",
    "  try:\n",
    "    #klines = client.get_historical_klines(\"BNBBTC\", Client.KLINE_INTERVAL_1MINUTE, \"1 day ago UTC\")        \n",
    "    hklines = client.get_historical_klines(symbol, interval, str(limit) + \" day ago\")\n",
    "    df = pd.DataFrame(hklines, columns=['Datetime', 'Open', 'High', 'Low', 'Close', 'Volume', 'Close_time', 'Quote_asset_volume', 'Number_of_trades', 'Taker_buy_base_asset_volume', 'Taker_buy_quote_asset_volume', 'Ignore'])\n",
    "    \n",
    "  except BinanceAPIException as e:\n",
    "    print(e)\n",
    "    time.sleep(60*5)\n",
    "  \n",
    "  df['Datetime'] = df['Datetime'].astype('datetime64[ms]')\n",
    "  df['Close_time'] = df['Close_time'].astype('datetime64[ms]')     \n",
    "  \n",
    "  #df.set_index('Datetime', inplace=True)\n",
    "  #cols = df.columns[df.dtypes.eq('object')]\n",
    "  #df[cols] = df[cols].apply(pd.to_numeric, errors='coerce')\n",
    "  \n",
    "  #print(url)\n",
    "\n",
    "  #df2 = pd.read_json(url)\n",
    "  #df2.columns = ['Opentime', 'Open', 'High', 'Low', 'Close', 'Volume', 'Closetime', 'Quote asset volume', 'Number of trades','Taker by base', 'Taker buy quote', 'Ignore']\n",
    "  #df = pd.concat([df2, df], axis=0, ignore_index=True, keys=None)\n",
    "       \n",
    "  df.set_index('Datetime', inplace=True)\n",
    "  cols = df.columns[df.dtypes.eq('object')]\n",
    "  df[cols] = df[cols].apply(pd.to_numeric, errors='coerce')\n",
    "  df = df[['Open', 'High', 'Low', 'Close', 'Volume']]\n",
    "  \n",
    "  return df "
   ]
  },
  {
   "cell_type": "markdown",
   "metadata": {
    "id": "VN2SnslTYPl8"
   },
   "source": [
    "def conditions(df, p=6, q=6):\n",
    "    #add supatrend\n",
    "    df['st_value'] = df.ta.supertrend(period=atr_period, multiplier=atr_multiplier)['SUPERT_7_3.0']\n",
    "    df['st_ind'] = df.ta.supertrend(period=atr_period, multiplier=atr_multiplier)['SUPERTd_7_3.0']\n",
    "\n",
    "    # EMA200, ATR and StochRSI\n",
    "    df['ema200'] = df.ta.ema(length=200)\n",
    "    df['atr'] = df.ta.atr()\n",
    "    df['rsi_stoch_k'] = df.ta.stochrsi(length = 14, k=1)['STOCHRSIk_14_14_1_3']\n",
    "    df['rsi_stoch_d'] = df.ta.stochrsi(length = 14, k=1)['STOCHRSId_14_14_1_3']\n",
    "    df.dropna(inplace=True)\n",
    "\n",
    "    # Some conditions\n",
    "    #df['price_above_ema200'] = np.where(df.Close>df.ema200, 1, 0)\n",
    "    #df['rsi_sig'] = np.where(df['rsi_stoch_k'] < 20, 1, 0) + np.where(df['rsi_stoch_k'] > 80, -1, 0) # <20 (oversold) value is 1, >80 value is 80 (overbought) # RSI-K used in the strat\n",
    "\n",
    "    # rsi_sig_dif = 1 crossing downtrend 80 // crossing downtrend 20 (BUY SIG)\n",
    "    # rsi_sig_dif = -1 crossing uptrend 80 (SELL SIG) // crossing uptrend 20\n",
    "    #df['rsi_sig_diff'] = df['rsi_sig'].diff()\n",
    "    df['Buy'] = np.where((df.Close > df.ema200) & (df['st_ind'] == 1) & (df['rsi_stoch_k'] < 20), 1, 0)\n",
    "\n",
    "    #comment \n",
    "    #(df.Close - p * df.atr  >= df.Low.shift(-1)), 1, 0)\n",
    "    # check if the trade would have worked // check if the lower price of next period is higher than our stoploss\n",
    "\n",
    "    # Ratio p:q\n",
    "    df['Target'] = np.where(df['Buy'] == 1, df.Close + p * df.atr, 0) \n",
    "    df['Stop'] = np.where(df['Buy'] == 1, df.Close - q * df.atr, 0) \n",
    "\n",
    "    return df"
   ]
  },
  {
   "cell_type": "code",
   "execution_count": 5,
   "metadata": {},
   "outputs": [],
   "source": [
    "def conditions(df, p=6, q=6):\n",
    "    _df = df.copy()\n",
    "    #add supatrend\n",
    "    _df['st_value'] = _df.ta.supertrend(period=atr_period, multiplier=atr_multiplier)['SUPERT_7_3.0']\n",
    "    _df['st_ind'] = _df.ta.supertrend(period=atr_period, multiplier=atr_multiplier)['SUPERTd_7_3.0']\n",
    "\n",
    "    # EMA200, ATR and StochRSI\n",
    "    _df['ema200'] = _df.ta.ema(length=200)\n",
    "    _df['atr'] = _df.ta.atr()\n",
    "    _df['rsi_stoch_k'] = _df.ta.stochrsi(length = 14, k=1)['STOCHRSIk_14_14_1_3']\n",
    "    _df['rsi_stoch_d'] = _df.ta.stochrsi(length = 14, k=1)['STOCHRSId_14_14_1_3']\n",
    "    _df.dropna(inplace=True)\n",
    "\n",
    "    # Some conditions\n",
    "    #_df['price_above_ema200'] = np.where(_df.Close>_df.ema200, 1, 0)\n",
    "    #_df['rsi_sig'] = np.where(_df['rsi_stoch_k'] < 20, 1, 0) + np.where(_df['rsi_stoch_k'] > 80, -1, 0) # <20 (oversold) value is 1, >80 value is 80 (overbought) # RSI-K used in the strat\n",
    "\n",
    "    # rsi_sig_dif = 1 crossing downtrend 80 // crossing downtrend 20 (BUY SIG)\n",
    "    # rsi_sig_dif = -1 crossing uptrend 80 (SELL SIG) // crossing uptrend 20\n",
    "    #_df['rsi_sig_diff'] = _df['rsi_sig'].diff()\n",
    "    _df['Buy'] = np.where((_df.Close > _df.ema200) & (_df['st_ind'] == 1) & (_df['rsi_stoch_k'] < 20), 1, 0)\n",
    "\n",
    "    #comment \n",
    "    #(_df.Close - p * _df.atr  >= _df.Low.shift(-1)), 1, 0)\n",
    "    # check if the trade would have worked // check if the lower price of next period is higher than our stoploss\n",
    "\n",
    "    # Ratio p:q\n",
    "    _df['Target'] = np.where(_df['Buy'] == 1, _df.Close + p * _df.atr, 0) \n",
    "    _df['Stop'] = np.where(_df['Buy'] == 1, _df.Close - q * _df.atr, 0) \n",
    "\n",
    "    return _df"
   ]
  },
  {
   "cell_type": "code",
   "execution_count": 6,
   "metadata": {
    "id": "TIdcp7J08BS5"
   },
   "outputs": [],
   "source": [
    "def buys_sells_df(df):\n",
    "  \n",
    "  # Builds a Buy and Sell dataframe to check profitability\n",
    "  ### Buy and Sell conditions\n",
    "  buys, sells = [], []\n",
    "  for i in range(len(df)):\n",
    "    if df.Buy.iloc[i]:\n",
    "      buys.append(df.iloc[i].name)\n",
    "      \n",
    "      for j in range(len(df) - i):\n",
    "        if df.Target.iloc[i] < df.Close.iloc[i + j] or \\\n",
    "        df.Stop.iloc[i] > df.Close.iloc[i + j]:\n",
    "          sells.append(df.iloc[i + j].name)\n",
    "          break\n",
    "  frame = pd.DataFrame([buys,sells]).T.dropna()\n",
    "  frame.columns = ['Buys', 'Sells']\n",
    "  return frame"
   ]
  },
  {
   "cell_type": "code",
   "execution_count": 7,
   "metadata": {
    "id": "PkACr496QYgE"
   },
   "outputs": [],
   "source": [
    "def get_lunarcash(api_key, crypto, datapoints, ln_tf):\n",
    "  ur = \"https://api.lunarcrush.com/v2?data=assets&key=\" + api_key + \"&symbol=\" + crypto + \"&data_points=\"+ str(datapoints) +\"&interval=\" + ln_tf\n",
    "  ass = json.loads(urllib.request.urlopen(ur).read())\n",
    "  print(ur)\n",
    "  #collect id and symbol // timeseries\n",
    "  lab = pd.DataFrame(ass['data'])[['id', 'name','symbol']]\n",
    "  ts = pd.DataFrame(ass['data'][0]['timeSeries'])\n",
    "  #merge\n",
    "  lncrush = pd.merge(lab, ts, how='right', left_on='id', right_on='asset_id')\n",
    "  lncrush['time'] = pd.to_datetime(lncrush['time'], unit='s')\n",
    "\n",
    "  lncrush = lncrush[['symbol', 'asset_id', 'time', 'open', 'close', 'high',\n",
    "       'low', 'volume', 'market_cap', 'average_sentiment', 'price_score', \n",
    "       'social_impact_score','correlation_rank', 'galaxy_score', 'volatility', \n",
    "       'alt_rank']]\n",
    "  lncrush.rename(columns={\"time\":\"date\"}, inplace=True)\n",
    "  lncrush.index = lncrush.date\n",
    "\n",
    "  return lncrush"
   ]
  },
  {
   "cell_type": "code",
   "execution_count": 8,
   "metadata": {
    "id": "y1iUW-rsY2iB"
   },
   "outputs": [],
   "source": [
    "def plot_supatrend_stoch(df, actualtrades):\n",
    "  # SupaTrend & Plot\n",
    "  \n",
    "  st = df.ta.supertrend(period=atr_period, multiplier=atr_multiplier)\n",
    "  strsi = pd.DataFrame({'STOCHRSIk_14_14_1_3' : df.ta.stochrsi(length = 14, k=1)['STOCHRSIk_14_14_1_3'], 'STOCHRSId_14_14_1_3' : df.ta.stochrsi(length = 14, k=1)['STOCHRSId_14_14_1_3'], \"HI\" : [80]*len(df.ta.stochrsi(length = 14, k=1).index), \"LO\" : [20]*len(df.ta.stochrsi(length = 14, k=1).index)})\n",
    "  st[\"Close\"] = df.Close\n",
    "  st[\"ema200\"] = df.ema200\n",
    "  #print(st.columns)\n",
    "\n",
    "  #figures\n",
    "\n",
    "  fig, (ax1, ax2) = plt.subplots(2,1, sharex = True, gridspec_kw={'height_ratios': [3, 1]}, figsize=(20,10))\n",
    "  \n",
    "  ax1.plot(st['SUPERTl_7_3.0'], color='green', label='SuperTrend LONG')\n",
    "  ax1.plot(st['SUPERTs_7_3.0'], color='red', label='SuperTrend SHORT')\n",
    "  ax1.plot(st['Close'], color='black', label='Price')\n",
    "  ax1.plot(st[st.columns[-3:]]['ema200'], color='blue', label='ema200')\n",
    "  ax1.set_title(crypto + \" - \" + fr_bnb)\n",
    "  ax1.plot(actualtrades.Buys, df.loc[actualtrades.Buys]['Close'], '^', markersize=10, color='g')\n",
    "  ax1.plot(actualtrades.Sells, df.loc[actualtrades.Sells]['Close'], '^', markersize=10, color='r')\n",
    "  ax1.legend()\n",
    "\n",
    "  ax2.plot(strsi['STOCHRSIk_14_14_1_3'], color ='red', label='stoch. RSI k')\n",
    "  ax2.plot(strsi['STOCHRSId_14_14_1_3'], color='blue', label='stoch. RSI D')\n",
    "  ax2.plot(strsi['HI'], color='black', linestyle=\"--\")\n",
    "  ax2.plot(strsi['LO'], color='black', linestyle=\"--\")\n",
    "  ax2.grid(True)\n",
    "  ax2.legend()\n",
    "  plt.show()\n",
    " "
   ]
  },
  {
   "cell_type": "markdown",
   "metadata": {
    "id": "5VNM-UWtZFHT"
   },
   "source": [
    "## Load data"
   ]
  },
  {
   "cell_type": "code",
   "execution_count": 9,
   "metadata": {
    "id": "8zN5NTfK5FwP"
   },
   "outputs": [],
   "source": [
    "client = Client(t_api_k, t_api_sk, testnet=True)"
   ]
  },
  {
   "cell_type": "code",
   "execution_count": 10,
   "metadata": {
    "colab": {
     "base_uri": "https://localhost:8080/",
     "height": 112
    },
    "id": "Ql0EZXndYyor",
    "outputId": "5774804a-d166-4e54-bcd8-b2060d535216"
   },
   "outputs": [
    {
     "data": {
      "text/plain": [
       "(4321, 5)"
      ]
     },
     "execution_count": 10,
     "metadata": {},
     "output_type": "execute_result"
    }
   ],
   "source": [
    "df = get_hklines(crypto+'USDT', interval, limit)\n",
    "df.shape"
   ]
  },
  {
   "cell_type": "code",
   "execution_count": null,
   "metadata": {},
   "outputs": [],
   "source": []
  },
  {
   "cell_type": "code",
   "execution_count": null,
   "metadata": {},
   "outputs": [],
   "source": []
  },
  {
   "cell_type": "code",
   "execution_count": null,
   "metadata": {},
   "outputs": [],
   "source": []
  },
  {
   "cell_type": "code",
   "execution_count": null,
   "metadata": {},
   "outputs": [],
   "source": []
  },
  {
   "cell_type": "raw",
   "metadata": {
    "id": "auluhRXiQaag"
   },
   "source": [
    "#data = get_lunarcash(api_key, crypto, lm, 'min')"
   ]
  },
  {
   "cell_type": "markdown",
   "metadata": {
    "id": "1EfQWHukrlci"
   },
   "source": [
    "## Conditions"
   ]
  },
  {
   "cell_type": "markdown",
   "metadata": {
    "id": "hOqPSlBFrnkk"
   },
   "source": [
    "Let's define buying and selling conditions as stated in https://www.youtube.com/watch?v=6zOMjMGM0ko&t=7s\n",
    "\n",
    "LONG Conditions:\n",
    "\n",
    "\n",
    "*   Price over ema200\n",
    "*   Long signal on SuperTrend\n",
    "*   Stock RSI under 20\n",
    "\n",
    "SHORT Conditions:\n",
    "\n",
    "\n",
    "*   Price under ema200\n",
    "*   SHORT signal on SuperTrend\n",
    "*   Stock RSI over 80\n",
    "\n",
    "SIMPLE SPOT VERSION\n",
    "* Market : CRYPTO\n",
    "* Define Trend : stock above 200-day ema\n",
    "* Entry : Stochastic RSI comes below 20\n",
    "* Target Price : 6 * ATR Higher or Lower to the Entry Price\n"
   ]
  },
  {
   "cell_type": "code",
   "execution_count": null,
   "metadata": {
    "id": "16L0Iu6V5Bxz"
   },
   "outputs": [],
   "source": []
  },
  {
   "cell_type": "raw",
   "metadata": {
    "colab": {
     "base_uri": "https://localhost:8080/"
    },
    "id": "A-yOsLIpnbFK",
    "outputId": "7384336d-8818-4723-d337-e708fca7d569"
   },
   "source": [
    "df = conditions(df, p, q)"
   ]
  },
  {
   "cell_type": "markdown",
   "metadata": {
    "id": "5Rw4QOSfLpmo"
   },
   "source": [
    "## Backtest Trades and Profits"
   ]
  },
  {
   "cell_type": "raw",
   "metadata": {
    "colab": {
     "base_uri": "https://localhost:8080/"
    },
    "id": "hfGzBHviNMRc",
    "outputId": "38c09ba6-962a-4568-a06a-c74596d53cfb"
   },
   "source": [
    "#%load_ext google.colab.data_table\n",
    "\n",
    "df.shape"
   ]
  },
  {
   "cell_type": "raw",
   "metadata": {
    "colab": {
     "base_uri": "https://localhost:8080/"
    },
    "id": "FGVRnV_s8zc_",
    "outputId": "d93c9ff9-f990-4b6a-bda7-d3626c8e2963"
   },
   "source": [
    "frame = buys_sells_df(df)\n",
    "actualtrades = frame[frame.Buys > frame.Sells.shift(1)]\n",
    "actualtrades = frame[:1].append(actualtrades)"
   ]
  },
  {
   "cell_type": "raw",
   "metadata": {
    "colab": {
     "base_uri": "https://localhost:8080/"
    },
    "id": "yxwpbV6KvaIh",
    "outputId": "33eb3d87-9766-40e8-abe3-e5116a0af02c"
   },
   "source": [
    "len(actualtrades)"
   ]
  },
  {
   "cell_type": "code",
   "execution_count": 11,
   "metadata": {
    "colab": {
     "base_uri": "https://localhost:8080/"
    },
    "id": "TVqVTa33vkci",
    "outputId": "fe1ab428-63a5-4716-ac81-9a554ec79267"
   },
   "outputs": [],
   "source": [
    "#print(df.loc[actualtrades.Buys[0]])\n",
    "#print(df.loc[actualtrades.Sells[0]])\n",
    "\n",
    "#((df.loc[actualtrades.Sells].Close.values - df.loc[actualtrades.Buys].Close.values) / df.loc[actualtrades.Buys].Close.values).mean() * 100"
   ]
  },
  {
   "cell_type": "raw",
   "metadata": {
    "colab": {
     "base_uri": "https://localhost:8080/"
    },
    "id": "X5GPn2YGBl_T",
    "outputId": "335be252-9b9d-4762-94a9-d643e4f497ac"
   },
   "source": [
    "# Profits\n",
    "profits = (df.loc[actualtrades.Sells].Close.values - df.loc[actualtrades.Buys].Close.values) / df.loc[actualtrades.Buys].Close.values\n",
    "win = len([i for i in profits if i> 0])\n",
    "print('{} wins out of {} trades i.e. {} % winrate and a relative profit of {} % and a cumulative return of {} '.format(win, len(profits), 100 * win/len(profits), profits.mean() * 100, (profits + 1).cumprod()[-1]))"
   ]
  },
  {
   "cell_type": "code",
   "execution_count": null,
   "metadata": {
    "id": "bP-mOaRri4AQ"
   },
   "outputs": [],
   "source": []
  },
  {
   "cell_type": "raw",
   "metadata": {
    "colab": {
     "base_uri": "https://localhost:8080/"
    },
    "id": "aICNIiTojCN8",
    "outputId": "3aeb3c29-74d8-4ec4-9eb2-f86f934e6960"
   },
   "source": []
  },
  {
   "cell_type": "code",
   "execution_count": 12,
   "metadata": {},
   "outputs": [],
   "source": [
    "def proft(x):\n",
    "  #df = get_hklines(crypto+'USDT', interval, limit)\n",
    "  dfo = conditions(df, x[0], x[1])\n",
    "  a = buys_sells_df(dfo)[:1].append(buys_sells_df(dfo)[buys_sells_df(dfo).Buys > buys_sells_df(dfo).Sells.shift(1)])\n",
    "  profit = (dfo.loc[a.Sells].Close.values - dfo.loc[a.Buys].Close.values) / dfo.loc[a.Buys].Close.values\n",
    "  #print(at)\n",
    "  return profit"
   ]
  },
  {
   "cell_type": "code",
   "execution_count": 13,
   "metadata": {
    "id": "5mz0OvfanLgF"
   },
   "outputs": [
    {
     "data": {
      "text/plain": [
       "array([-0.00108974, -0.00095755,  0.00269088, -0.00201478, -0.00233333,\n",
       "       -0.00301811,  0.00167336,  0.00133556, -0.00166389,  0.002998  ,\n",
       "        0.001665  , -0.00133289, -0.00266578,  0.01703407])"
      ]
     },
     "execution_count": 13,
     "metadata": {},
     "output_type": "execute_result"
    }
   ],
   "source": [
    "proft([1,1])"
   ]
  },
  {
   "cell_type": "code",
   "execution_count": 14,
   "metadata": {
    "id": "HAhGihvUnVSo"
   },
   "outputs": [
    {
     "data": {
      "text/html": [
       "<div>\n",
       "<style scoped>\n",
       "    .dataframe tbody tr th:only-of-type {\n",
       "        vertical-align: middle;\n",
       "    }\n",
       "\n",
       "    .dataframe tbody tr th {\n",
       "        vertical-align: top;\n",
       "    }\n",
       "\n",
       "    .dataframe thead th {\n",
       "        text-align: right;\n",
       "    }\n",
       "</style>\n",
       "<table border=\"1\" class=\"dataframe\">\n",
       "  <thead>\n",
       "    <tr style=\"text-align: right;\">\n",
       "      <th></th>\n",
       "      <th>Open</th>\n",
       "      <th>High</th>\n",
       "      <th>Low</th>\n",
       "      <th>Close</th>\n",
       "      <th>Volume</th>\n",
       "    </tr>\n",
       "    <tr>\n",
       "      <th>Datetime</th>\n",
       "      <th></th>\n",
       "      <th></th>\n",
       "      <th></th>\n",
       "      <th></th>\n",
       "      <th></th>\n",
       "    </tr>\n",
       "  </thead>\n",
       "  <tbody>\n",
       "    <tr>\n",
       "      <th>2022-05-26 15:40:00</th>\n",
       "      <td>312.4</td>\n",
       "      <td>312.8</td>\n",
       "      <td>312.3</td>\n",
       "      <td>312.7</td>\n",
       "      <td>43.14</td>\n",
       "    </tr>\n",
       "    <tr>\n",
       "      <th>2022-05-26 15:41:00</th>\n",
       "      <td>312.7</td>\n",
       "      <td>313.0</td>\n",
       "      <td>312.5</td>\n",
       "      <td>312.8</td>\n",
       "      <td>32.52</td>\n",
       "    </tr>\n",
       "    <tr>\n",
       "      <th>2022-05-26 15:42:00</th>\n",
       "      <td>312.8</td>\n",
       "      <td>313.0</td>\n",
       "      <td>312.5</td>\n",
       "      <td>312.5</td>\n",
       "      <td>36.83</td>\n",
       "    </tr>\n",
       "    <tr>\n",
       "      <th>2022-05-26 15:43:00</th>\n",
       "      <td>312.6</td>\n",
       "      <td>312.7</td>\n",
       "      <td>312.6</td>\n",
       "      <td>312.6</td>\n",
       "      <td>24.70</td>\n",
       "    </tr>\n",
       "    <tr>\n",
       "      <th>2022-05-26 15:44:00</th>\n",
       "      <td>312.5</td>\n",
       "      <td>313.1</td>\n",
       "      <td>312.3</td>\n",
       "      <td>313.1</td>\n",
       "      <td>48.05</td>\n",
       "    </tr>\n",
       "    <tr>\n",
       "      <th>...</th>\n",
       "      <td>...</td>\n",
       "      <td>...</td>\n",
       "      <td>...</td>\n",
       "      <td>...</td>\n",
       "      <td>...</td>\n",
       "    </tr>\n",
       "    <tr>\n",
       "      <th>2022-05-29 15:36:00</th>\n",
       "      <td>302.5</td>\n",
       "      <td>302.5</td>\n",
       "      <td>302.5</td>\n",
       "      <td>302.5</td>\n",
       "      <td>8.70</td>\n",
       "    </tr>\n",
       "    <tr>\n",
       "      <th>2022-05-29 15:37:00</th>\n",
       "      <td>302.5</td>\n",
       "      <td>302.6</td>\n",
       "      <td>302.5</td>\n",
       "      <td>302.6</td>\n",
       "      <td>10.52</td>\n",
       "    </tr>\n",
       "    <tr>\n",
       "      <th>2022-05-29 15:38:00</th>\n",
       "      <td>302.6</td>\n",
       "      <td>303.3</td>\n",
       "      <td>302.6</td>\n",
       "      <td>303.3</td>\n",
       "      <td>54.54</td>\n",
       "    </tr>\n",
       "    <tr>\n",
       "      <th>2022-05-29 15:39:00</th>\n",
       "      <td>302.9</td>\n",
       "      <td>302.9</td>\n",
       "      <td>302.6</td>\n",
       "      <td>302.9</td>\n",
       "      <td>22.20</td>\n",
       "    </tr>\n",
       "    <tr>\n",
       "      <th>2022-05-29 15:40:00</th>\n",
       "      <td>302.9</td>\n",
       "      <td>302.9</td>\n",
       "      <td>302.9</td>\n",
       "      <td>302.9</td>\n",
       "      <td>0.00</td>\n",
       "    </tr>\n",
       "  </tbody>\n",
       "</table>\n",
       "<p>4321 rows × 5 columns</p>\n",
       "</div>"
      ],
      "text/plain": [
       "                      Open   High    Low  Close  Volume\n",
       "Datetime                                               \n",
       "2022-05-26 15:40:00  312.4  312.8  312.3  312.7   43.14\n",
       "2022-05-26 15:41:00  312.7  313.0  312.5  312.8   32.52\n",
       "2022-05-26 15:42:00  312.8  313.0  312.5  312.5   36.83\n",
       "2022-05-26 15:43:00  312.6  312.7  312.6  312.6   24.70\n",
       "2022-05-26 15:44:00  312.5  313.1  312.3  313.1   48.05\n",
       "...                    ...    ...    ...    ...     ...\n",
       "2022-05-29 15:36:00  302.5  302.5  302.5  302.5    8.70\n",
       "2022-05-29 15:37:00  302.5  302.6  302.5  302.6   10.52\n",
       "2022-05-29 15:38:00  302.6  303.3  302.6  303.3   54.54\n",
       "2022-05-29 15:39:00  302.9  302.9  302.6  302.9   22.20\n",
       "2022-05-29 15:40:00  302.9  302.9  302.9  302.9    0.00\n",
       "\n",
       "[4321 rows x 5 columns]"
      ]
     },
     "execution_count": 14,
     "metadata": {},
     "output_type": "execute_result"
    }
   ],
   "source": [
    "df"
   ]
  },
  {
   "cell_type": "code",
   "execution_count": 15,
   "metadata": {
    "id": "IIh-Czwv_bnD"
   },
   "outputs": [],
   "source": [
    "from pymoo.core.problem import ElementwiseProblem"
   ]
  },
  {
   "cell_type": "code",
   "execution_count": 16,
   "metadata": {
    "id": "xNbHK1YbYbgH"
   },
   "outputs": [],
   "source": [
    "class MyProblem(ElementwiseProblem):\n",
    "    \n",
    "    def __init__(self):\n",
    "        super().__init__(n_var=2,\n",
    "                         n_obj=2,\n",
    "                         n_constr=0,\n",
    "                         xl=np.array([0,0]),\n",
    "                         xu=np.array([20,20]))\n",
    "    ####\n",
    "\n",
    "    #######\n",
    "\n",
    "    def _evaluate(self, x, out, *args, **kwargs):\n",
    "        f1 = - proft(x).mean()\n",
    "        f2 = proft(x).std()\n",
    "\n",
    "        #g1 = 2*(x[0]-0.1) * (x[0]-0.9) / 0.18\n",
    "        #g2 = - 20*(x[0]-0.4) * (x[0]-0.6) / 4.8\n",
    "\n",
    "        out[\"F\"] = [f1, f2]\n",
    "        #out[\"F1\"] = f1\n",
    "        #out[\"F2\"] = f2\n",
    "        #out[\"G\"] = [g1, g2]\n",
    "\n",
    "\n",
    "problem = MyProblem()"
   ]
  },
  {
   "cell_type": "code",
   "execution_count": 17,
   "metadata": {
    "id": "AeE4hES4k3-9"
   },
   "outputs": [],
   "source": [
    "#problem._evaluate()"
   ]
  },
  {
   "cell_type": "code",
   "execution_count": 18,
   "metadata": {
    "id": "0F5KNB5JYbt1"
   },
   "outputs": [],
   "source": [
    "#from pymoo.algorithms.moo.nsga2 import NSGA2\n",
    "from pymoo.factory import get_sampling, get_crossover, get_mutation\n",
    "\n",
    "from pymoo.algorithms.moo.nsga3 import NSGA3\n",
    "from pymoo.factory import get_problem, get_reference_directions\n",
    "#from pymoo.optimize import minimize\n",
    "#from pymoo.visualization.scatter import Scatter\n",
    "\n",
    "# create the reference directions to be used for the optimization\n",
    "ref_dirs = get_reference_directions(\"das-dennis\", 2, n_partitions=12)\n",
    "\n",
    "algorithm = NSGA3(\n",
    "    pop_size=20,\n",
    "    n_offsprings=10,\n",
    "    sampling=get_sampling(\"real_random\"),\n",
    "    crossover=get_crossover(\"real_sbx\", prob=0.9, eta=15),\n",
    "    mutation=get_mutation(\"real_pm\", eta=20),\n",
    "    eliminate_duplicates=True,\n",
    "    ref_dirs=ref_dirs\n",
    ")"
   ]
  },
  {
   "cell_type": "code",
   "execution_count": 19,
   "metadata": {
    "id": "fn1NrHYBdWan"
   },
   "outputs": [],
   "source": [
    "from pymoo.factory import get_termination\n",
    "\n",
    "termination = get_termination(\"n_gen\", 20)"
   ]
  },
  {
   "cell_type": "code",
   "execution_count": 20,
   "metadata": {
    "id": "tJVVJFtKdfzM"
   },
   "outputs": [
    {
     "name": "stdout",
     "output_type": "stream",
     "text": [
      "=======================================================\n",
      "n_gen |  n_eval |  n_nds  |     eps      |  indicator  \n",
      "=======================================================\n",
      "    1 |      20 |       5 |            - |            -\n",
      "    2 |      30 |       5 |  0.003753025 |        ideal\n",
      "    3 |      40 |       5 |  0.048098231 |            f\n",
      "    4 |      50 |       6 |  0.072699745 |            f\n",
      "    5 |      60 |       5 |  0.012420746 |            f\n",
      "    6 |      70 |       6 |  0.056313586 |            f\n",
      "    7 |      80 |       6 |  0.013626120 |        ideal\n",
      "    8 |      90 |       8 |  0.007294224 |        ideal\n",
      "    9 |     100 |       8 |  0.012325740 |            f\n",
      "   10 |     110 |       9 |  0.021097611 |            f\n",
      "   11 |     120 |       9 |  0.015371005 |            f\n",
      "   12 |     130 |      11 |  0.024667118 |            f\n",
      "   13 |     140 |      10 |  0.100456534 |        ideal\n",
      "   14 |     150 |      10 |  0.032259393 |        ideal\n",
      "   15 |     160 |      11 |  0.124393951 |        ideal\n",
      "   16 |     170 |      12 |  0.009439757 |            f\n",
      "   17 |     180 |      12 |  0.013158052 |            f\n",
      "   18 |     190 |      12 |  0.000689694 |            f\n",
      "   19 |     200 |      12 |  0.011130335 |            f\n",
      "   20 |     210 |      12 |  0.000913054 |            f\n"
     ]
    }
   ],
   "source": [
    "from pymoo.optimize import minimize\n",
    "\n",
    "res = minimize(problem, algorithm, termination, seed=1, save_history=True, verbose=True)\n",
    "X = res.X\n",
    "F = res.F"
   ]
  },
  {
   "cell_type": "code",
   "execution_count": 21,
   "metadata": {
    "id": "oNdwvw5KeBPe"
   },
   "outputs": [
    {
     "data": {
      "text/html": [
       "<div>\n",
       "<style scoped>\n",
       "    .dataframe tbody tr th:only-of-type {\n",
       "        vertical-align: middle;\n",
       "    }\n",
       "\n",
       "    .dataframe tbody tr th {\n",
       "        vertical-align: top;\n",
       "    }\n",
       "\n",
       "    .dataframe thead th {\n",
       "        text-align: right;\n",
       "    }\n",
       "</style>\n",
       "<table border=\"1\" class=\"dataframe\">\n",
       "  <thead>\n",
       "    <tr style=\"text-align: right;\">\n",
       "      <th></th>\n",
       "      <th>0</th>\n",
       "      <th>1</th>\n",
       "    </tr>\n",
       "  </thead>\n",
       "  <tbody>\n",
       "    <tr>\n",
       "      <th>0</th>\n",
       "      <td>10.888421</td>\n",
       "      <td>5.028640</td>\n",
       "    </tr>\n",
       "    <tr>\n",
       "      <th>1</th>\n",
       "      <td>1.681613</td>\n",
       "      <td>5.893383</td>\n",
       "    </tr>\n",
       "    <tr>\n",
       "      <th>2</th>\n",
       "      <td>3.599230</td>\n",
       "      <td>5.978184</td>\n",
       "    </tr>\n",
       "    <tr>\n",
       "      <th>3</th>\n",
       "      <td>14.468187</td>\n",
       "      <td>5.105579</td>\n",
       "    </tr>\n",
       "    <tr>\n",
       "      <th>4</th>\n",
       "      <td>12.127957</td>\n",
       "      <td>5.103612</td>\n",
       "    </tr>\n",
       "    <tr>\n",
       "      <th>5</th>\n",
       "      <td>8.058246</td>\n",
       "      <td>6.233675</td>\n",
       "    </tr>\n",
       "    <tr>\n",
       "      <th>6</th>\n",
       "      <td>6.848365</td>\n",
       "      <td>5.107778</td>\n",
       "    </tr>\n",
       "    <tr>\n",
       "      <th>7</th>\n",
       "      <td>8.910740</td>\n",
       "      <td>5.096814</td>\n",
       "    </tr>\n",
       "    <tr>\n",
       "      <th>8</th>\n",
       "      <td>16.875216</td>\n",
       "      <td>5.153392</td>\n",
       "    </tr>\n",
       "    <tr>\n",
       "      <th>9</th>\n",
       "      <td>2.935118</td>\n",
       "      <td>6.242874</td>\n",
       "    </tr>\n",
       "    <tr>\n",
       "      <th>10</th>\n",
       "      <td>12.790755</td>\n",
       "      <td>5.060572</td>\n",
       "    </tr>\n",
       "    <tr>\n",
       "      <th>11</th>\n",
       "      <td>16.347560</td>\n",
       "      <td>5.079392</td>\n",
       "    </tr>\n",
       "  </tbody>\n",
       "</table>\n",
       "</div>"
      ],
      "text/plain": [
       "            0         1\n",
       "0   10.888421  5.028640\n",
       "1    1.681613  5.893383\n",
       "2    3.599230  5.978184\n",
       "3   14.468187  5.105579\n",
       "4   12.127957  5.103612\n",
       "5    8.058246  6.233675\n",
       "6    6.848365  5.107778\n",
       "7    8.910740  5.096814\n",
       "8   16.875216  5.153392\n",
       "9    2.935118  6.242874\n",
       "10  12.790755  5.060572\n",
       "11  16.347560  5.079392"
      ]
     },
     "execution_count": 21,
     "metadata": {},
     "output_type": "execute_result"
    }
   ],
   "source": [
    "pd.DataFrame(X)"
   ]
  },
  {
   "cell_type": "code",
   "execution_count": 22,
   "metadata": {
    "id": "Ydb4MorIeBSa"
   },
   "outputs": [
    {
     "data": {
      "text/html": [
       "<div>\n",
       "<style scoped>\n",
       "    .dataframe tbody tr th:only-of-type {\n",
       "        vertical-align: middle;\n",
       "    }\n",
       "\n",
       "    .dataframe tbody tr th {\n",
       "        vertical-align: top;\n",
       "    }\n",
       "\n",
       "    .dataframe thead th {\n",
       "        text-align: right;\n",
       "    }\n",
       "</style>\n",
       "<table border=\"1\" class=\"dataframe\">\n",
       "  <thead>\n",
       "    <tr style=\"text-align: right;\">\n",
       "      <th></th>\n",
       "      <th>Minus Mean Profit</th>\n",
       "      <th>StDev</th>\n",
       "    </tr>\n",
       "  </thead>\n",
       "  <tbody>\n",
       "    <tr>\n",
       "      <th>0</th>\n",
       "      <td>-1.351234</td>\n",
       "      <td>1.301555</td>\n",
       "    </tr>\n",
       "    <tr>\n",
       "      <th>1</th>\n",
       "      <td>-0.232752</td>\n",
       "      <td>0.271723</td>\n",
       "    </tr>\n",
       "    <tr>\n",
       "      <th>2</th>\n",
       "      <td>-0.443159</td>\n",
       "      <td>0.520200</td>\n",
       "    </tr>\n",
       "    <tr>\n",
       "      <th>3</th>\n",
       "      <td>-1.765571</td>\n",
       "      <td>1.603972</td>\n",
       "    </tr>\n",
       "    <tr>\n",
       "      <th>4</th>\n",
       "      <td>-1.463185</td>\n",
       "      <td>1.380383</td>\n",
       "    </tr>\n",
       "    <tr>\n",
       "      <th>5</th>\n",
       "      <td>-0.872402</td>\n",
       "      <td>1.077478</td>\n",
       "    </tr>\n",
       "    <tr>\n",
       "      <th>6</th>\n",
       "      <td>-0.769089</td>\n",
       "      <td>0.892596</td>\n",
       "    </tr>\n",
       "    <tr>\n",
       "      <th>7</th>\n",
       "      <td>-1.082552</td>\n",
       "      <td>1.112559</td>\n",
       "    </tr>\n",
       "    <tr>\n",
       "      <th>8</th>\n",
       "      <td>-2.123916</td>\n",
       "      <td>1.867017</td>\n",
       "    </tr>\n",
       "    <tr>\n",
       "      <th>9</th>\n",
       "      <td>-0.322883</td>\n",
       "      <td>0.423737</td>\n",
       "    </tr>\n",
       "    <tr>\n",
       "      <th>10</th>\n",
       "      <td>-1.586484</td>\n",
       "      <td>1.482998</td>\n",
       "    </tr>\n",
       "    <tr>\n",
       "      <th>11</th>\n",
       "      <td>-2.023076</td>\n",
       "      <td>1.786295</td>\n",
       "    </tr>\n",
       "  </tbody>\n",
       "</table>\n",
       "</div>"
      ],
      "text/plain": [
       "    Minus Mean Profit     StDev\n",
       "0           -1.351234  1.301555\n",
       "1           -0.232752  0.271723\n",
       "2           -0.443159  0.520200\n",
       "3           -1.765571  1.603972\n",
       "4           -1.463185  1.380383\n",
       "5           -0.872402  1.077478\n",
       "6           -0.769089  0.892596\n",
       "7           -1.082552  1.112559\n",
       "8           -2.123916  1.867017\n",
       "9           -0.322883  0.423737\n",
       "10          -1.586484  1.482998\n",
       "11          -2.023076  1.786295"
      ]
     },
     "execution_count": 22,
     "metadata": {},
     "output_type": "execute_result"
    }
   ],
   "source": [
    "pd.DataFrame(100* F, columns=['Minus Mean Profit', 'StDev'])"
   ]
  },
  {
   "cell_type": "code",
   "execution_count": null,
   "metadata": {
    "id": "yWGHYnRJeBVk"
   },
   "outputs": [],
   "source": []
  },
  {
   "cell_type": "code",
   "execution_count": 23,
   "metadata": {
    "id": "V3pY2WbWdf2z"
   },
   "outputs": [
    {
     "data": {
      "image/png": "[encoded data removed]",
      "text/plain": [
       "<Figure size 504x360 with 1 Axes>"
      ]
     },
     "metadata": {
      "needs_background": "light"
     },
     "output_type": "display_data"
    }
   ],
   "source": [
    "xl, xu = problem.bounds()\n",
    "plt.figure(figsize=(7, 5))\n",
    "plt.scatter(X[:, 0], X[:, 1], s=30, facecolors='none', edgecolors='r')\n",
    "plt.xlim(xl[0], xu[0])\n",
    "plt.ylim(xl[1], xu[1])\n",
    "plt.title(\"Design Space\")\n",
    "plt.show()"
   ]
  },
  {
   "cell_type": "code",
   "execution_count": 24,
   "metadata": {},
   "outputs": [
    {
     "data": {
      "image/png": "[encoded data removed]",
      "text/plain": [
       "<Figure size 504x360 with 1 Axes>"
      ]
     },
     "metadata": {
      "needs_background": "light"
     },
     "output_type": "display_data"
    }
   ],
   "source": [
    "plt.figure(figsize=(7, 5))\n",
    "plt.scatter(F[:, 0], F[:, 1], s=30, facecolors='none', edgecolors='blue')\n",
    "plt.title(\"Objective Space\")\n",
    "plt.show()"
   ]
  },
  {
   "cell_type": "code",
   "execution_count": 25,
   "metadata": {},
   "outputs": [
    {
     "name": "stdout",
     "output_type": "stream",
     "text": [
      "1 wins out of 2 trades i.e. 50.0 % winrate and a relative profit of 1.5229533752490323 % and a cumulative return of 1.0300250329892104 \n"
     ]
    }
   ],
   "source": [
    "#\n",
    "df = conditions(df, 20, 10)\n",
    "\n",
    "#\n",
    "frame = buys_sells_df(df)\n",
    "actualtrades = frame[frame.Buys > frame.Sells.shift(1)]\n",
    "actualtrades = frame[:1].append(actualtrades)\n",
    "\n",
    "# Profits\n",
    "profits = (df.loc[actualtrades.Sells].Close.values - df.loc[actualtrades.Buys].Close.values) / df.loc[actualtrades.Buys].Close.values\n",
    "win = len([i for i in profits if i> 0])\n",
    "print('{} wins out of {} trades i.e. {} % winrate and a relative profit of {} % and a cumulative return of {} '.format(win, len(profits), 100 * win/len(profits), profits.mean() * 100, (profits + 1).cumprod()[-1]))"
   ]
  },
  {
   "cell_type": "code",
   "execution_count": null,
   "metadata": {},
   "outputs": [],
   "source": []
  },
  {
   "cell_type": "code",
   "execution_count": null,
   "metadata": {},
   "outputs": [],
   "source": []
  },
  {
   "cell_type": "code",
   "execution_count": null,
   "metadata": {},
   "outputs": [],
   "source": []
  },
  {
   "cell_type": "code",
   "execution_count": 26,
   "metadata": {
    "colab": {
     "background_save": true
    },
    "id": "O6A-khLHKv12"
   },
   "outputs": [
    {
     "name": "stdout",
     "output_type": "stream",
     "text": [
      "start optimization\n",
      "14484.0\n",
      "21451.25\n",
      "6967.25\n",
      "end optimization\n",
      "     fun: 0.00029256922526379667\n",
      " message: 'Optimization terminated successfully.'\n",
      "    nfev: 63\n",
      "     nit: 1\n",
      " success: True\n",
      "       x: array([10.94801025, 20.46312614])\n",
      "Solution: f([10.94801025 20.46312614]) = -0.00029\n",
      "all good\n"
     ]
    }
   ],
   "source": [
    "#live version\n",
    "import pandas as pd\n",
    "from scipy.optimize import differential_evolution\n",
    "import time\n",
    "\n",
    "def optimizer_function(v):\n",
    "  v = p, q\n",
    "  _df = df_generator(p, q)[0]\n",
    "  a = df_generator(p, q)[1]\n",
    "  return profit_function(_df, a)\n",
    "\n",
    "def df_generator(p, q):\n",
    "  #df = get_hklines(crypto+'USDT', interval, limit)\n",
    "  _df = conditions(df, p, q)\n",
    "  _at = buys_sells_df(_df)[:1].append(buys_sells_df(_df)[buys_sells_df(_df).Buys > buys_sells_df(_df).Sells.shift(1)])\n",
    "  #print(at)\n",
    "  return _df, _at\n",
    "\n",
    "def profit_function(_df, _at):\n",
    "  profit = (_df.loc[_at.Sells].Close.values - _df.loc[_at.Buys].Close.values) / _df.loc[_at.Buys].Close.values\n",
    "  return - profit.mean()\n",
    "\n",
    "\n",
    "def optimiser():\n",
    "  print(\"start optimization\")\n",
    "  start = time.process_time()\n",
    "  print(start)\n",
    "  result = differential_evolution(func=optimizer_function, bounds=[(0.01,30),(0.01,30)])\n",
    "  end = time.process_time()\n",
    "  print(end)\n",
    "  print(end - start)\n",
    "  print(\"end optimization\")\n",
    "  print(result)\n",
    "  solution = result['x']\n",
    "  evaluation = - result['fun']\n",
    "  print('Solution: f(%s) = %.5f' % (solution, evaluation))\n",
    "  return(solution)\n",
    "\n",
    "\n",
    "if __name__ == '__main__':\n",
    "    r = optimiser()\n",
    "    print(\"all good\")"
   ]
  },
  {
   "cell_type": "code",
   "execution_count": 29,
   "metadata": {
    "colab": {
     "background_save": true
    },
    "id": "tcLqW9J8SyBK"
   },
   "outputs": [
    {
     "name": "stdout",
     "output_type": "stream",
     "text": [
      "0.030459067504980647\n"
     ]
    },
    {
     "ename": "KeyError",
     "evalue": "\"[Timestamp('2022-05-26 23:45:00')] not in index\"",
     "output_type": "error",
     "traceback": [
      "\u001b[1;31m---------------------------------------------------------------------------\u001b[0m",
      "\u001b[1;31mKeyError\u001b[0m                                  Traceback (most recent call last)",
      "\u001b[1;32m~\\AppData\\Local\\Temp/ipykernel_8236/4186197960.py\u001b[0m in \u001b[0;36m<module>\u001b[1;34m\u001b[0m\n\u001b[0;32m      6\u001b[0m \u001b[1;33m\u001b[0m\u001b[0m\n\u001b[0;32m      7\u001b[0m \u001b[0mprint\u001b[0m\u001b[1;33m(\u001b[0m\u001b[0mprofits\u001b[0m\u001b[1;33m.\u001b[0m\u001b[0msum\u001b[0m\u001b[1;33m(\u001b[0m\u001b[1;33m)\u001b[0m\u001b[1;33m)\u001b[0m \u001b[1;31m#+\u001b[0m\u001b[1;33m\u001b[0m\u001b[1;33m\u001b[0m\u001b[0m\n\u001b[1;32m----> 8\u001b[1;33m \u001b[0mprint\u001b[0m\u001b[1;33m(\u001b[0m\u001b[0mp_f\u001b[0m\u001b[1;33m(\u001b[0m\u001b[0mdf_generator\u001b[0m\u001b[1;33m(\u001b[0m\u001b[0mr\u001b[0m\u001b[1;33m[\u001b[0m\u001b[1;36m0\u001b[0m\u001b[1;33m]\u001b[0m\u001b[1;33m,\u001b[0m \u001b[0mr\u001b[0m\u001b[1;33m[\u001b[0m\u001b[1;36m1\u001b[0m\u001b[1;33m]\u001b[0m\u001b[1;33m)\u001b[0m\u001b[1;33m[\u001b[0m\u001b[1;36m0\u001b[0m\u001b[1;33m]\u001b[0m\u001b[1;33m,\u001b[0m \u001b[0mdf_generator\u001b[0m\u001b[1;33m(\u001b[0m\u001b[0mr\u001b[0m\u001b[1;33m[\u001b[0m\u001b[1;36m0\u001b[0m\u001b[1;33m]\u001b[0m\u001b[1;33m,\u001b[0m \u001b[0mr\u001b[0m\u001b[1;33m[\u001b[0m\u001b[1;36m1\u001b[0m\u001b[1;33m]\u001b[0m\u001b[1;33m)\u001b[0m\u001b[1;33m[\u001b[0m\u001b[1;36m1\u001b[0m\u001b[1;33m]\u001b[0m\u001b[1;33m)\u001b[0m\u001b[1;33m)\u001b[0m\u001b[1;33m\u001b[0m\u001b[1;33m\u001b[0m\u001b[0m\n\u001b[0m",
      "\u001b[1;32m~\\AppData\\Local\\Temp/ipykernel_8236/4186197960.py\u001b[0m in \u001b[0;36mp_f\u001b[1;34m(df, _at)\u001b[0m\n\u001b[0;32m      2\u001b[0m     \u001b[0m_df\u001b[0m \u001b[1;33m=\u001b[0m\u001b[0mdf\u001b[0m\u001b[1;33m.\u001b[0m\u001b[0mcopy\u001b[0m\u001b[1;33m(\u001b[0m\u001b[1;33m)\u001b[0m\u001b[1;33m\u001b[0m\u001b[1;33m\u001b[0m\u001b[0m\n\u001b[0;32m      3\u001b[0m     \u001b[0m_df\u001b[0m \u001b[1;33m=\u001b[0m \u001b[0mconditions\u001b[0m\u001b[1;33m(\u001b[0m\u001b[0m_df\u001b[0m\u001b[1;33m,\u001b[0m \u001b[0mp\u001b[0m\u001b[1;33m=\u001b[0m\u001b[1;36m6\u001b[0m\u001b[1;33m,\u001b[0m \u001b[0mq\u001b[0m\u001b[1;33m=\u001b[0m\u001b[1;36m6\u001b[0m\u001b[1;33m)\u001b[0m\u001b[1;33m\u001b[0m\u001b[1;33m\u001b[0m\u001b[0m\n\u001b[1;32m----> 4\u001b[1;33m     \u001b[0mprofit\u001b[0m \u001b[1;33m=\u001b[0m \u001b[1;33m(\u001b[0m\u001b[0m_df\u001b[0m\u001b[1;33m.\u001b[0m\u001b[0mloc\u001b[0m\u001b[1;33m[\u001b[0m\u001b[0m_at\u001b[0m\u001b[1;33m.\u001b[0m\u001b[0mSells\u001b[0m\u001b[1;33m]\u001b[0m\u001b[1;33m.\u001b[0m\u001b[0mClose\u001b[0m\u001b[1;33m.\u001b[0m\u001b[0mvalues\u001b[0m \u001b[1;33m-\u001b[0m \u001b[0m_df\u001b[0m\u001b[1;33m.\u001b[0m\u001b[0mloc\u001b[0m\u001b[1;33m[\u001b[0m\u001b[0m_at\u001b[0m\u001b[1;33m.\u001b[0m\u001b[0mBuys\u001b[0m\u001b[1;33m]\u001b[0m\u001b[1;33m.\u001b[0m\u001b[0mClose\u001b[0m\u001b[1;33m.\u001b[0m\u001b[0mvalues\u001b[0m\u001b[1;33m)\u001b[0m \u001b[1;33m/\u001b[0m \u001b[0m_df\u001b[0m\u001b[1;33m.\u001b[0m\u001b[0mloc\u001b[0m\u001b[1;33m[\u001b[0m\u001b[0m_at\u001b[0m\u001b[1;33m.\u001b[0m\u001b[0mBuys\u001b[0m\u001b[1;33m]\u001b[0m\u001b[1;33m.\u001b[0m\u001b[0mClose\u001b[0m\u001b[1;33m.\u001b[0m\u001b[0mvalues\u001b[0m\u001b[1;33m\u001b[0m\u001b[1;33m\u001b[0m\u001b[0m\n\u001b[0m\u001b[0;32m      5\u001b[0m     \u001b[1;32mreturn\u001b[0m  \u001b[1;33m-\u001b[0m \u001b[0mprofit\u001b[0m\u001b[1;33m.\u001b[0m\u001b[0msum\u001b[0m\u001b[1;33m(\u001b[0m\u001b[1;33m)\u001b[0m\u001b[1;33m\u001b[0m\u001b[1;33m\u001b[0m\u001b[0m\n\u001b[0;32m      6\u001b[0m \u001b[1;33m\u001b[0m\u001b[0m\n",
      "\u001b[1;32m~\\anaconda3\\lib\\site-packages\\pandas\\core\\indexing.py\u001b[0m in \u001b[0;36m__getitem__\u001b[1;34m(self, key)\u001b[0m\n\u001b[0;32m    929\u001b[0m \u001b[1;33m\u001b[0m\u001b[0m\n\u001b[0;32m    930\u001b[0m             \u001b[0mmaybe_callable\u001b[0m \u001b[1;33m=\u001b[0m \u001b[0mcom\u001b[0m\u001b[1;33m.\u001b[0m\u001b[0mapply_if_callable\u001b[0m\u001b[1;33m(\u001b[0m\u001b[0mkey\u001b[0m\u001b[1;33m,\u001b[0m \u001b[0mself\u001b[0m\u001b[1;33m.\u001b[0m\u001b[0mobj\u001b[0m\u001b[1;33m)\u001b[0m\u001b[1;33m\u001b[0m\u001b[1;33m\u001b[0m\u001b[0m\n\u001b[1;32m--> 931\u001b[1;33m             \u001b[1;32mreturn\u001b[0m \u001b[0mself\u001b[0m\u001b[1;33m.\u001b[0m\u001b[0m_getitem_axis\u001b[0m\u001b[1;33m(\u001b[0m\u001b[0mmaybe_callable\u001b[0m\u001b[1;33m,\u001b[0m \u001b[0maxis\u001b[0m\u001b[1;33m=\u001b[0m\u001b[0maxis\u001b[0m\u001b[1;33m)\u001b[0m\u001b[1;33m\u001b[0m\u001b[1;33m\u001b[0m\u001b[0m\n\u001b[0m\u001b[0;32m    932\u001b[0m \u001b[1;33m\u001b[0m\u001b[0m\n\u001b[0;32m    933\u001b[0m     \u001b[1;32mdef\u001b[0m \u001b[0m_is_scalar_access\u001b[0m\u001b[1;33m(\u001b[0m\u001b[0mself\u001b[0m\u001b[1;33m,\u001b[0m \u001b[0mkey\u001b[0m\u001b[1;33m:\u001b[0m \u001b[0mtuple\u001b[0m\u001b[1;33m)\u001b[0m\u001b[1;33m:\u001b[0m\u001b[1;33m\u001b[0m\u001b[1;33m\u001b[0m\u001b[0m\n",
      "\u001b[1;32m~\\anaconda3\\lib\\site-packages\\pandas\\core\\indexing.py\u001b[0m in \u001b[0;36m_getitem_axis\u001b[1;34m(self, key, axis)\u001b[0m\n\u001b[0;32m   1151\u001b[0m                     \u001b[1;32mraise\u001b[0m \u001b[0mValueError\u001b[0m\u001b[1;33m(\u001b[0m\u001b[1;34m\"Cannot index with multidimensional key\"\u001b[0m\u001b[1;33m)\u001b[0m\u001b[1;33m\u001b[0m\u001b[1;33m\u001b[0m\u001b[0m\n\u001b[0;32m   1152\u001b[0m \u001b[1;33m\u001b[0m\u001b[0m\n\u001b[1;32m-> 1153\u001b[1;33m                 \u001b[1;32mreturn\u001b[0m \u001b[0mself\u001b[0m\u001b[1;33m.\u001b[0m\u001b[0m_getitem_iterable\u001b[0m\u001b[1;33m(\u001b[0m\u001b[0mkey\u001b[0m\u001b[1;33m,\u001b[0m \u001b[0maxis\u001b[0m\u001b[1;33m=\u001b[0m\u001b[0maxis\u001b[0m\u001b[1;33m)\u001b[0m\u001b[1;33m\u001b[0m\u001b[1;33m\u001b[0m\u001b[0m\n\u001b[0m\u001b[0;32m   1154\u001b[0m \u001b[1;33m\u001b[0m\u001b[0m\n\u001b[0;32m   1155\u001b[0m             \u001b[1;31m# nested tuple slicing\u001b[0m\u001b[1;33m\u001b[0m\u001b[1;33m\u001b[0m\u001b[1;33m\u001b[0m\u001b[0m\n",
      "\u001b[1;32m~\\anaconda3\\lib\\site-packages\\pandas\\core\\indexing.py\u001b[0m in \u001b[0;36m_getitem_iterable\u001b[1;34m(self, key, axis)\u001b[0m\n\u001b[0;32m   1091\u001b[0m \u001b[1;33m\u001b[0m\u001b[0m\n\u001b[0;32m   1092\u001b[0m         \u001b[1;31m# A collection of keys\u001b[0m\u001b[1;33m\u001b[0m\u001b[1;33m\u001b[0m\u001b[1;33m\u001b[0m\u001b[0m\n\u001b[1;32m-> 1093\u001b[1;33m         \u001b[0mkeyarr\u001b[0m\u001b[1;33m,\u001b[0m \u001b[0mindexer\u001b[0m \u001b[1;33m=\u001b[0m \u001b[0mself\u001b[0m\u001b[1;33m.\u001b[0m\u001b[0m_get_listlike_indexer\u001b[0m\u001b[1;33m(\u001b[0m\u001b[0mkey\u001b[0m\u001b[1;33m,\u001b[0m \u001b[0maxis\u001b[0m\u001b[1;33m)\u001b[0m\u001b[1;33m\u001b[0m\u001b[1;33m\u001b[0m\u001b[0m\n\u001b[0m\u001b[0;32m   1094\u001b[0m         return self.obj._reindex_with_indexers(\n\u001b[0;32m   1095\u001b[0m             \u001b[1;33m{\u001b[0m\u001b[0maxis\u001b[0m\u001b[1;33m:\u001b[0m \u001b[1;33m[\u001b[0m\u001b[0mkeyarr\u001b[0m\u001b[1;33m,\u001b[0m \u001b[0mindexer\u001b[0m\u001b[1;33m]\u001b[0m\u001b[1;33m}\u001b[0m\u001b[1;33m,\u001b[0m \u001b[0mcopy\u001b[0m\u001b[1;33m=\u001b[0m\u001b[1;32mTrue\u001b[0m\u001b[1;33m,\u001b[0m \u001b[0mallow_dups\u001b[0m\u001b[1;33m=\u001b[0m\u001b[1;32mTrue\u001b[0m\u001b[1;33m\u001b[0m\u001b[1;33m\u001b[0m\u001b[0m\n",
      "\u001b[1;32m~\\anaconda3\\lib\\site-packages\\pandas\\core\\indexing.py\u001b[0m in \u001b[0;36m_get_listlike_indexer\u001b[1;34m(self, key, axis)\u001b[0m\n\u001b[0;32m   1312\u001b[0m             \u001b[0mkeyarr\u001b[0m\u001b[1;33m,\u001b[0m \u001b[0mindexer\u001b[0m\u001b[1;33m,\u001b[0m \u001b[0mnew_indexer\u001b[0m \u001b[1;33m=\u001b[0m \u001b[0max\u001b[0m\u001b[1;33m.\u001b[0m\u001b[0m_reindex_non_unique\u001b[0m\u001b[1;33m(\u001b[0m\u001b[0mkeyarr\u001b[0m\u001b[1;33m)\u001b[0m\u001b[1;33m\u001b[0m\u001b[1;33m\u001b[0m\u001b[0m\n\u001b[0;32m   1313\u001b[0m \u001b[1;33m\u001b[0m\u001b[0m\n\u001b[1;32m-> 1314\u001b[1;33m         \u001b[0mself\u001b[0m\u001b[1;33m.\u001b[0m\u001b[0m_validate_read_indexer\u001b[0m\u001b[1;33m(\u001b[0m\u001b[0mkeyarr\u001b[0m\u001b[1;33m,\u001b[0m \u001b[0mindexer\u001b[0m\u001b[1;33m,\u001b[0m \u001b[0maxis\u001b[0m\u001b[1;33m)\u001b[0m\u001b[1;33m\u001b[0m\u001b[1;33m\u001b[0m\u001b[0m\n\u001b[0m\u001b[0;32m   1315\u001b[0m \u001b[1;33m\u001b[0m\u001b[0m\n\u001b[0;32m   1316\u001b[0m         if needs_i8_conversion(ax.dtype) or isinstance(\n",
      "\u001b[1;32m~\\anaconda3\\lib\\site-packages\\pandas\\core\\indexing.py\u001b[0m in \u001b[0;36m_validate_read_indexer\u001b[1;34m(self, key, indexer, axis)\u001b[0m\n\u001b[0;32m   1375\u001b[0m \u001b[1;33m\u001b[0m\u001b[0m\n\u001b[0;32m   1376\u001b[0m             \u001b[0mnot_found\u001b[0m \u001b[1;33m=\u001b[0m \u001b[0mlist\u001b[0m\u001b[1;33m(\u001b[0m\u001b[0mensure_index\u001b[0m\u001b[1;33m(\u001b[0m\u001b[0mkey\u001b[0m\u001b[1;33m)\u001b[0m\u001b[1;33m[\u001b[0m\u001b[0mmissing_mask\u001b[0m\u001b[1;33m.\u001b[0m\u001b[0mnonzero\u001b[0m\u001b[1;33m(\u001b[0m\u001b[1;33m)\u001b[0m\u001b[1;33m[\u001b[0m\u001b[1;36m0\u001b[0m\u001b[1;33m]\u001b[0m\u001b[1;33m]\u001b[0m\u001b[1;33m.\u001b[0m\u001b[0munique\u001b[0m\u001b[1;33m(\u001b[0m\u001b[1;33m)\u001b[0m\u001b[1;33m)\u001b[0m\u001b[1;33m\u001b[0m\u001b[1;33m\u001b[0m\u001b[0m\n\u001b[1;32m-> 1377\u001b[1;33m             \u001b[1;32mraise\u001b[0m \u001b[0mKeyError\u001b[0m\u001b[1;33m(\u001b[0m\u001b[1;34mf\"{not_found} not in index\"\u001b[0m\u001b[1;33m)\u001b[0m\u001b[1;33m\u001b[0m\u001b[1;33m\u001b[0m\u001b[0m\n\u001b[0m\u001b[0;32m   1378\u001b[0m \u001b[1;33m\u001b[0m\u001b[0m\n\u001b[0;32m   1379\u001b[0m \u001b[1;33m\u001b[0m\u001b[0m\n",
      "\u001b[1;31mKeyError\u001b[0m: \"[Timestamp('2022-05-26 23:45:00')] not in index\""
     ]
    }
   ],
   "source": [
    "def p_f(df, _at):\n",
    "    _df =df.copy()\n",
    "    _df = conditions(_df, p=6, q=6)\n",
    "    profit = (_df.loc[_at.Sells].Close.values - _df.loc[_at.Buys].Close.values) / _df.loc[_at.Buys].Close.values\n",
    "    return  - profit.sum()\n",
    "\n",
    "print(profits.sum()) #+ \n",
    "print(p_f(df_generator(r[0], r[1])[0], df_generator(r[0], r[1])[1]))"
   ]
  },
  {
   "cell_type": "code",
   "execution_count": 30,
   "metadata": {
    "colab": {
     "background_save": true
    },
    "id": "WVLJlQoc1FlE"
   },
   "outputs": [
    {
     "data": {
      "text/plain": [
       "array([-0.01057692,  0.04103599])"
      ]
     },
     "execution_count": 30,
     "metadata": {},
     "output_type": "execute_result"
    }
   ],
   "source": [
    "profits"
   ]
  },
  {
   "cell_type": "code",
   "execution_count": 31,
   "metadata": {
    "id": "TLxTMbdjf9lY"
   },
   "outputs": [
    {
     "data": {
      "text/plain": [
       "(                       Open    High    Low  Close  Volume    st_value  st_ind  \\\n",
       " Datetime                                                                        \n",
       " 2022-05-26 22:18:00  313.30  313.30  313.3  313.3    8.38  312.663493       1   \n",
       " 2022-05-26 22:19:00  313.40  313.60  313.3  313.3   29.51  312.775851       1   \n",
       " 2022-05-26 22:20:00  313.30  313.30  313.3  313.3    1.00  312.775851       1   \n",
       " 2022-05-26 22:21:00  313.26  313.26  312.9  313.0   15.51  312.775851       1   \n",
       " 2022-05-26 22:22:00  313.10  313.10  313.1  313.1    7.30  312.775851       1   \n",
       " ...                     ...     ...    ...    ...     ...         ...     ...   \n",
       " 2022-05-29 15:36:00  302.50  302.50  302.5  302.5    8.70  303.189987      -1   \n",
       " 2022-05-29 15:37:00  302.50  302.60  302.5  302.6   10.52  303.184275      -1   \n",
       " 2022-05-29 15:38:00  302.60  303.30  302.6  303.3   54.54  302.106336       1   \n",
       " 2022-05-29 15:39:00  302.90  302.90  302.6  302.9   22.20  302.106336       1   \n",
       " 2022-05-29 15:40:00  302.90  302.90  302.9  302.9    0.00  302.106336       1   \n",
       " \n",
       "                          ema200       atr  rsi_stoch_k  rsi_stoch_d  Buy  \\\n",
       " Datetime                                                                   \n",
       " 2022-05-26 22:18:00  310.724600  0.246893    21.158223    14.105482    0   \n",
       " 2022-05-26 22:19:00  310.750226  0.250686    21.158223    21.158223    0   \n",
       " 2022-05-26 22:20:00  310.775597  0.232780    21.158223    21.158223    0   \n",
       " 2022-05-26 22:21:00  310.797730  0.244725     0.000000    14.105482    1   \n",
       " 2022-05-26 22:22:00  310.820638  0.234387    11.420811    10.859678    1   \n",
       " ...                         ...       ...          ...          ...  ...   \n",
       " 2022-05-29 15:36:00  303.895641  0.218025    45.397680    51.289871    0   \n",
       " 2022-05-29 15:37:00  303.882749  0.209595    54.073185    53.185812    0   \n",
       " 2022-05-29 15:38:00  303.876951  0.244624   100.000000    66.490288    0   \n",
       " 2022-05-29 15:39:00  303.867230  0.277151    55.728364    69.933850    0   \n",
       " 2022-05-29 15:40:00  303.857606  0.257354    55.728364    70.485576    0   \n",
       " \n",
       "                          Target        Stop  \n",
       " Datetime                                     \n",
       " 2022-05-26 22:18:00    0.000000    0.000000  \n",
       " 2022-05-26 22:19:00    0.000000    0.000000  \n",
       " 2022-05-26 22:20:00    0.000000    0.000000  \n",
       " 2022-05-26 22:21:00  315.679247  307.992171  \n",
       " 2022-05-26 22:22:00  315.666072  308.303708  \n",
       " ...                         ...         ...  \n",
       " 2022-05-29 15:36:00    0.000000    0.000000  \n",
       " 2022-05-29 15:37:00    0.000000    0.000000  \n",
       " 2022-05-29 15:38:00    0.000000    0.000000  \n",
       " 2022-05-29 15:39:00    0.000000    0.000000  \n",
       " 2022-05-29 15:40:00    0.000000    0.000000  \n",
       " \n",
       " [3923 rows x 14 columns],\n",
       "                  Buys               Sells\n",
       " 0 2022-05-26 22:21:00 2022-05-26 23:45:00\n",
       " 5 2022-05-27 07:05:00 2022-05-27 12:21:00)"
      ]
     },
     "execution_count": 31,
     "metadata": {},
     "output_type": "execute_result"
    }
   ],
   "source": [
    "df_generator(r[0], r[1])"
   ]
  },
  {
   "cell_type": "raw",
   "metadata": {
    "colab": {
     "background_save": true
    },
    "id": "b3mTOXG6TfB4"
   },
   "source": [
    "plot_supatrend_stoch(df, actualtrades)\n",
    "#df.columns"
   ]
  },
  {
   "cell_type": "raw",
   "metadata": {
    "colab": {
     "background_save": true
    },
    "id": "f-ZXvWcEN66-"
   },
   "source": [
    "df.tail(2)"
   ]
  },
  {
   "cell_type": "markdown",
   "metadata": {
    "id": "LdnRkzvHKCCH"
   },
   "source": [
    "## Build Signals and live trading on Binance Testnet"
   ]
  },
  {
   "cell_type": "raw",
   "metadata": {
    "id": "N2QIJIo4qIur"
   },
   "source": [
    "# Build signals class to ease work\n",
    "class Signals:\n",
    "\n",
    "  def __init__(self,df, lags):\n",
    "    self.df = df\n",
    "    self.lags = lags\n",
    "\n",
    "  def gettrigger(self):\n",
    "    dfx = pd.DataFrame()\n",
    "    for i in range(self.lags + 1):\n",
    "      mask = (self.df['rsi_stoch_k'].shift(i) < 20)\n",
    "      dfx = dfx.append(mask, ignore_index = True)\n",
    "    return dfx.sum(axis=0)\n",
    "\n",
    "  def decide(self):\n",
    "    self.df['trigger'] = np.where(self.gettrigger, 1, 0)\n",
    "    self.df['Buy'] = np.where((self.df.trigger) & (self.df.Close > self.df['ema200']) & (self.df['st_ind'] ==1 ), 1, 0)\n",
    "    #self.df['Buy'] = np.where((self.df.trigger) & (self.df['rsi_stoch_k'] <20) & (self.df['price_above_ema200']==1) & (self.df['st_ind']==1), 1, 0)\n",
    "    #(self.df['rsi_stoch_k'].between(20,80)) & # need reflexion -- should the rsi-D stay below 20 to place an order or should I wait for a breakout above 20?"
   ]
  },
  {
   "cell_type": "raw",
   "metadata": {
    "id": "Zjf9L91cI-TI"
   },
   "source": [
    "client.get_account()"
   ]
  },
  {
   "cell_type": "raw",
   "metadata": {
    "id": "fhmyF1i8S7lc"
   },
   "source": [
    "client.get_all_tickers()"
   ]
  },
  {
   "cell_type": "raw",
   "metadata": {
    "id": "lG3_o1dTwDLD"
   },
   "source": [
    "def strategy(crypto, qty, open_position=False):\n",
    "  df = get_klines_iter(crypto+'USDT',fr_bnb, limit=lm)\n",
    "  df = conditions(df)\n",
    "  inst = Signals(df, 5)\n",
    "  inst.decide()\n",
    "  print(f'Current close is ' + str(df.Close.iloc[-1]))\n",
    "  if df.Buy.iloc[-1]:\n",
    "    order = client.create_order(symbol=crypto+'USDT',\n",
    "                                 side='BUY',\n",
    "                                 type='MARKET',\n",
    "                                 quantity= qty)\n",
    "    print(order)\n",
    "    buyprice = float(order['fills'][0]['price'])\n",
    "    targetprice = buyprice + df.atr.iloc[-1] * 6 #as stated by the video 6 times atr as stop\n",
    "    stopprice = buyprice - df.atr.iloc[-1] * 6 #as stated by the video 6 times atr as stop\n",
    "    open_position = True\n",
    "\n",
    "  # Run strategy\n",
    "  while open_position:\n",
    "      time.sleep(0.5)\n",
    "      df = get_klines_iter(crypto+'USDT',fr_bnb, limit=2) #take 2 timesteps back records to monitor\n",
    "      print(f'Current Close is ' + str(df.Close.iloc[-1]))\n",
    "      print(f'Current Target is ' + str(targetprice))\n",
    "      print(f'Current Stop is ' + str(stopprice))\n",
    "      if df.Close[-1] <= stopprice or df.Close[-1] >= targetprice:\n",
    "        order = client.create_order(symbol = crypto+'USDT',\n",
    "                                    side = 'SELL',\n",
    "                                    type = 'MARKET',\n",
    "                                    quantity = qty)\n",
    "        print(order)\n",
    "        break"
   ]
  },
  {
   "cell_type": "raw",
   "metadata": {
    "id": "znjInGITLHox"
   },
   "source": [
    "while True:\n",
    "  strategy(crypto, 10)\n",
    "  time.sleep(0.5)"
   ]
  }
 ],
 "metadata": {
  "colab": {
   "collapsed_sections": [],
   "name": "DE_p_q_SuperTrendMeo.ipynb",
   "provenance": []
  },
  "kernelspec": {
   "display_name": "Python 3 (ipykernel)",
   "language": "python",
   "name": "python3"
  },
  "language_info": {
   "codemirror_mode": {
    "name": "ipython",
    "version": 3
   },
   "file_extension": ".py",
   "mimetype": "text/x-python",
   "name": "python",
   "nbconvert_exporter": "python",
   "pygments_lexer": "ipython3",
   "version": "3.8.8"
  }
 },
 "nbformat": 4,
 "nbformat_minor": 1
}
